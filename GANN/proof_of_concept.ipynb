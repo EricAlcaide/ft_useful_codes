{
 "cells": [
  {
   "cell_type": "markdown",
   "metadata": {},
   "source": [
    "# Evolutionary Strategies to evolve Neural Networks"
   ]
  },
  {
   "cell_type": "code",
   "execution_count": 3,
   "metadata": {
    "collapsed": true
   },
   "outputs": [],
   "source": [
    "# Import the necessary modules\n",
    "import numpy as np\n",
    "import matplotlib.pyplot as plt\n",
    "from scipy.interpolate import pchip\n",
    "from random import random, randint\n",
    "import tensorflow as tf\n",
    "from operator import add\n",
    "from functools import reduce"
   ]
  },
  {
   "cell_type": "code",
   "execution_count": 29,
   "metadata": {},
   "outputs": [
    {
     "name": "stdout",
     "output_type": "stream",
     "text": [
      "Extracting MNIST_data/train-images-idx3-ubyte.gz\n",
      "Extracting MNIST_data/train-labels-idx1-ubyte.gz\n",
      "Extracting MNIST_data/t10k-images-idx3-ubyte.gz\n",
      "Extracting MNIST_data/t10k-labels-idx1-ubyte.gz\n"
     ]
    }
   ],
   "source": [
    "from tensorflow.examples.tutorials.mnist import input_data\n",
    "mnist = input_data.read_data_sets(\"MNIST_data/\", one_hot=True)"
   ]
  },
  {
   "cell_type": "code",
   "execution_count": 46,
   "metadata": {
    "collapsed": true
   },
   "outputs": [],
   "source": [
    "# Create an individual here // n_layers + space for accuracy\n",
    "def individual(n_layers, minimum, maximum, alpha_max, alpha_min):\n",
    "\treturn [ randint(minimum, maximum) for n in range(n_layers)]+[randint(alpha_min, alpha_max), 0]"
   ]
  },
  {
   "cell_type": "code",
   "execution_count": 44,
   "metadata": {
    "collapsed": true
   },
   "outputs": [],
   "source": [
    "# Create the population here\n",
    "def population(n_nets, n_layers, minimum, maximum, alpha_max, alpha_min):\n",
    "\treturn [ individual(n_layers, minimum, maximum, alpha_max, alpha_min) for n in range(n_nets) ]"
   ]
  },
  {
   "cell_type": "code",
   "execution_count": 48,
   "metadata": {
    "collapsed": true
   },
   "outputs": [],
   "source": [
    "# Measure the fitness of an entire population. Lower is better.\n",
    "def evaluate(population):\n",
    "\ttotal = reduce(add, ([n[-1] for n in population]), 0)\n",
    "\treturn total / float(len(population))"
   ]
  },
  {
   "cell_type": "code",
   "execution_count": 55,
   "metadata": {},
   "outputs": [],
   "source": [
    "# Evolve individuals and create the next generation. Select the 20% best. Not the best approach\n",
    "def evolve(population, minimum, maximum, n_nets, n_layers, retain, random_aditional, mutation):\n",
    "    tupled = [ reversed(neural(net)) for net in population ]\n",
    "    tupled = [ reversed(net) for net in sorted(tupled, reverse=True) ]\n",
    "    retain_length = int(retain*n_nets)\n",
    "    \n",
    "    # Print the best Net of the generation\n",
    "    print(\"Best of that Generation: \",tupled[0])\n",
    "    # Continue\n",
    "    \n",
    "    parents = tupled[:retain_length]\n",
    "    # Select other individuals randomly to maintain genetic diversity. Could be avoided with a better approach.\n",
    "    for net in tupled[retain_length:]:\n",
    "        if random_aditional > random():\n",
    "            parents.append(net)\n",
    "    # Mutate some individuals to maintain genetic diversity\n",
    "    for net in parents:\n",
    "        for i in range(n_layers):\n",
    "            if mutation > random():\n",
    "                net[i] = randint(minimum, maximum)\n",
    "    # Crossover of parents to generate children\n",
    "    parents_length = len(parents)\n",
    "    children_maxlength = n_nets - parents_length\n",
    "    children = []\n",
    "    while len(children) < children_maxlength:\n",
    "        male = randint(0, parents_length-1)\n",
    "        female = randint(0, parents_length-1)\n",
    "        if male != female:\n",
    "            male = parents[male]\n",
    "            female = parents[female]\n",
    "            cross_point = randint(0, n_layers+2)\n",
    "            child = male[:cross_point]+female[cross_point:] \t\t\t# Combine male and female\n",
    "            children.append(child)\n",
    "    parents.extend(children)\t\t\t\t\t\t\t\t\t\t\t# Extend parents list by appending children list\n",
    "    return parents \t\t\t\t\t\t\t\t\t\t\t\t# Return the next Generation of individuals\n"
   ]
  },
  {
   "cell_type": "code",
   "execution_count": 63,
   "metadata": {
    "collapsed": true
   },
   "outputs": [],
   "source": [
    "# Get the accuracy for a given neural net\n",
    "def neural(net):\n",
    "    \n",
    "    batch_size = 100\n",
    "    K = net[0]\n",
    "    L = net[1]\n",
    "    alpha = net[2]/100000\n",
    "\n",
    "    W1 = tf.Variable(tf.truncated_normal([28*28, K], stddev = 0.1))\n",
    "    B1 = tf.Variable(tf.zeros([K]))\n",
    "    W2 = tf.Variable(tf.truncated_normal([K, L], stddev = 0.1))\n",
    "    B2 = tf.Variable(tf.zeros([L]))\n",
    "    W3 = tf.Variable(tf.truncated_normal([L, 10], stddev = 0.1))\n",
    "    B3 = tf.Variable(tf.zeros([10]))\n",
    "\n",
    "    X = tf.placeholder(tf.float32, [None, 28 * 28]) \t# One layer because 28*28 gray-scaled images, the None will become the batch size\n",
    "    X = tf.reshape(X, [-1, 28*28])\n",
    "\n",
    "    # Defining the model - changing relu by my_function\n",
    "    Y1 = tf.nn.relu(tf.matmul(X, W1) + B1)\n",
    "    Y2 = tf.nn.relu(tf.matmul(Y1, W2) + B2)\n",
    "    Y3 = tf.nn.softmax(tf.matmul(Y2, W3) + B3)\n",
    "\n",
    "    init = tf.global_variables_initializer()\n",
    "\n",
    "    # Defining the placeholder for correct answers\n",
    "    Y_ = tf.placeholder(tf.float32, [None, 10]) \t\t# \"One-hot\" encoded vector (00001000000)\n",
    "\n",
    "    # SUCCESS metrics\n",
    "    # Loss function to determine how bad is the model\n",
    "    cross_entropy = -tf.reduce_sum(Y_ * tf.log(Y3)) \t# If Y is 1, log(Y) = 0, if Y is 0, log(Y) = -infinite\n",
    "    # % of correct answers found in batch\n",
    "    is_correct = tf.equal(tf.argmax(Y3, 1), tf.argmax(Y_, 1))\t# \"One-hot\" decoding here\n",
    "    accuracy = tf.reduce_mean(tf.cast(is_correct, tf.float32))\n",
    "\n",
    "    # Training step\n",
    "    optimizer = tf.train.GradientDescentOptimizer(alpha)\n",
    "    train_step = optimizer.minimize(cross_entropy)\n",
    "\n",
    "    # RUN the fuckin' code here\n",
    "    sess = tf.Session() \t\t\t\t\t\t\t\t# Code in tf is not computed until RUN\n",
    "    sess.run(init)\n",
    "    # Training loop\n",
    "    for i in range(100):\n",
    "        # Load batch of images and correct answers\n",
    "        batch_X, batch_Y = mnist.train.next_batch(batch_size)\t# Train on mini_batches of 100 images\n",
    "        train_data = {X: batch_X, Y_: batch_Y}\n",
    "        # Train\n",
    "        sess.run(train_step, feed_dict = train_data)\n",
    "        # {X: batch_X, Y_: batch_Y}\n",
    "        \n",
    "    # Succes on training data\n",
    "    a_tr, c_tr = sess.run([accuracy, cross_entropy], feed_dict = train_data)\n",
    "    # Success on test data?\n",
    "    test_data = {X: mnist.test.images, Y_: mnist.test.labels}\n",
    "    a_test, c_test = sess.run([accuracy, cross_entropy], feed_dict = test_data)\n",
    "    print(\"Net (1st:\"+str(K)+\", 2nd:\"+str(L)+\", Alpha:\"+str(alpha)+\"): acc_train:\", a_tr, \"|| acc_test:\", a_test)\n",
    "    \n",
    "    sess.close() # Closing the session\n",
    "    \n",
    "    return [K, L, alpha, a_test*100]"
   ]
  },
  {
   "cell_type": "code",
   "execution_count": 41,
   "metadata": {},
   "outputs": [
    {
     "name": "stdout",
     "output_type": "stream",
     "text": [
      "Net (1st:56, 2nd:81): acc_train: 0.89 || acc_test: 0.9118\n",
      "[56, 81, 0.00085, 91.180002689361572]\n",
      "Net (1st:2, 2nd:45): acc_train: 0.66 || acc_test: 0.5794\n",
      "[2, 45, 0.00114, 57.940000295639038]\n",
      "Net (1st:50, 2nd:60): acc_train: 0.96 || acc_test: 0.9282\n",
      "[50, 60, 0.0017, 92.820000648498535]\n",
      "Net (1st:22, 2nd:86): acc_train: 0.9 || acc_test: 0.9035\n",
      "[22, 86, 0.00111, 90.35000205039978]\n",
      "Net (1st:9, 2nd:93): acc_train: 0.94 || acc_test: 0.8979\n",
      "[9, 93, 0.0018, 89.789998531341553]\n"
     ]
    }
   ],
   "source": [
    "for i in range(5):\n",
    "    print(neural([randint(1,100), randint(1,100), randint(1,300), 0]))"
   ]
  },
  {
   "cell_type": "code",
   "execution_count": 67,
   "metadata": {
    "collapsed": true
   },
   "outputs": [],
   "source": [
    "# Declare parameters\n",
    "N_MAX_NEURONS = 100\n",
    "N_MIN_NEURONS = 1\n",
    "ALPHA_MAX = 300\n",
    "ALPHA_MIN = 1\n",
    "N_LAYERS = 2\n",
    "N_NETS = 10\n",
    "N_ITER = 5\n",
    "RETAIN = 0.2\n",
    "MUTATION = RANDOM_ADD = 0.2"
   ]
  },
  {
   "cell_type": "code",
   "execution_count": 65,
   "metadata": {},
   "outputs": [],
   "source": [
    "# Plot the Fitness of each generation. Lower is better\n",
    "def plot_graph(eval_history):\n",
    "    x = [g for g in range(len(eval_history))]\n",
    "    # Data to be interpolated.\n",
    "    y = eval_history\n",
    "    # Define plots.\n",
    "    plt.plot(x, y, 'r.')\n",
    "    plt.grid(True)\n",
    "    plt.title(\"Graph visualization\")\n",
    "    plt.xlabel(\"Generations\")\n",
    "    plt.ylabel(\"Average Accuracy after 10o learning episodes\")\n",
    "    # Plot it all\n",
    "    plt.show()"
   ]
  },
  {
   "cell_type": "code",
   "execution_count": 68,
   "metadata": {},
   "outputs": [
    {
     "name": "stdout",
     "output_type": "stream",
     "text": [
      "Net (1st:9, 2nd:13, Alpha:0.00095): acc_train: 0.29 || acc_test: 0.3453\n",
      "Net (1st:27, 2nd:29, Alpha:0.00075): acc_train: 0.42 || acc_test: 0.448\n",
      "Net (1st:71, 2nd:28, Alpha:0.00028): acc_train: 0.47 || acc_test: 0.4783\n",
      "Net (1st:15, 2nd:53, Alpha:0.00024): acc_train: 0.36 || acc_test: 0.3626\n",
      "Net (1st:100, 2nd:90, Alpha:0.00229): acc_train: 0.94 || acc_test: 0.8706\n",
      "Net (1st:45, 2nd:30, Alpha:0.00227): acc_train: 0.84 || acc_test: 0.8213\n",
      "Net (1st:79, 2nd:35, Alpha:0.00121): acc_train: 0.83 || acc_test: 0.837\n",
      "Net (1st:95, 2nd:23, Alpha:0.00293): acc_train: 0.76 || acc_test: 0.8169\n",
      "Net (1st:92, 2nd:4, Alpha:0.00277): acc_train: 0.51 || acc_test: 0.5026\n",
      "Net (1st:5, 2nd:17, Alpha:0.00251): acc_train: 0.67 || acc_test: 0.586\n",
      "Best of that Generation:  [100, 90, 229, 0]\n",
      "------ GEN 1 ------\n",
      "Net (1st:9, 2nd:50, Alpha:0.00229): acc_train: 0.73 || acc_test: 0.6683\n",
      "Net (1st:18, 2nd:35, Alpha:0.00121): acc_train: 0.65 || acc_test: 0.6033\n",
      "Net (1st:9, 2nd:50, Alpha:0.00229): acc_train: 0.84 || acc_test: 0.8246\n",
      "Net (1st:9, 2nd:50, Alpha:0.00229): acc_train: 0.82 || acc_test: 0.7871\n",
      "Net (1st:9, 2nd:50, Alpha:0.00121): acc_train: 0.62 || acc_test: 0.5808\n",
      "Net (1st:9, 2nd:50, Alpha:0.00229): acc_train: 0.8 || acc_test: 0.7024\n",
      "Net (1st:9, 2nd:35, Alpha:0.00121): acc_train: 0.4 || acc_test: 0.3225\n",
      "Net (1st:18, 2nd:50, Alpha:0.00229): acc_train: 0.92 || acc_test: 0.8334\n",
      "Net (1st:9, 2nd:35, Alpha:0.00121): acc_train: 0.66 || acc_test: 0.5962\n",
      "Net (1st:18, 2nd:35, Alpha:0.00121): acc_train: 0.75 || acc_test: 0.7023\n",
      "Best of that Generation:  [18, 50, 229, 0]\n",
      "------ GEN 2 ------\n",
      "Net (1st:18, 2nd:50, Alpha:0.00229): acc_train: 0.78 || acc_test: 0.8157\n",
      "Net (1st:9, 2nd:50, Alpha:0.00229): acc_train: 0.68 || acc_test: 0.6414\n",
      "Net (1st:9, 2nd:48, Alpha:0.00229): acc_train: 0.77 || acc_test: 0.6564\n",
      "Net (1st:9, 2nd:50, Alpha:0.00229): acc_train: 0.73 || acc_test: 0.7126\n",
      "Net (1st:9, 2nd:48, Alpha:0.00229): acc_train: 0.83 || acc_test: 0.7576\n",
      "Net (1st:9, 2nd:50, Alpha:0.00229): acc_train: 0.85 || acc_test: 0.7991\n",
      "Net (1st:18, 2nd:50, Alpha:0.00229): acc_train: 0.87 || acc_test: 0.8109\n",
      "Net (1st:18, 2nd:50, Alpha:0.00229): acc_train: 0.85 || acc_test: 0.846\n",
      "Net (1st:9, 2nd:50, Alpha:0.00229): acc_train: 0.86 || acc_test: 0.8084\n",
      "Net (1st:18, 2nd:50, Alpha:0.00229): acc_train: 0.89 || acc_test: 0.8187\n",
      "Best of that Generation:  [18, 50, 229, 0]\n",
      "------ GEN 3 ------\n",
      "Net (1st:18, 2nd:50, Alpha:0.00229): acc_train: 0.92 || acc_test: 0.8411\n",
      "Net (1st:18, 2nd:50, Alpha:0.00229): acc_train: 0.73 || acc_test: 0.7395\n",
      "Net (1st:16, 2nd:50, Alpha:0.00229): acc_train: 0.85 || acc_test: 0.7922\n",
      "Net (1st:9, 2nd:50, Alpha:0.00229): acc_train: 0.77 || acc_test: 0.76\n",
      "Net (1st:18, 2nd:50, Alpha:0.00229): acc_train: 0.9 || acc_test: 0.8391\n",
      "Net (1st:9, 2nd:50, Alpha:0.00229): acc_train: 0.79 || acc_test: 0.7172\n",
      "Net (1st:18, 2nd:50, Alpha:0.00229): acc_train: 0.74 || acc_test: 0.6632\n",
      "Net (1st:18, 2nd:50, Alpha:0.00229): acc_train: 0.77 || acc_test: 0.7496\n",
      "Net (1st:18, 2nd:50, Alpha:0.00229): acc_train: 0.8 || acc_test: 0.7904\n",
      "Net (1st:16, 2nd:50, Alpha:0.00229): acc_train: 0.89 || acc_test: 0.8172\n",
      "Best of that Generation:  [18, 50, 229, 0]\n",
      "------ GEN 4 ------\n",
      "Net (1st:18, 2nd:50, Alpha:0.00229): acc_train: 0.84 || acc_test: 0.828\n",
      "Net (1st:18, 2nd:50, Alpha:0.00229): acc_train: 0.9 || acc_test: 0.8569\n",
      "Net (1st:16, 2nd:50, Alpha:0.00229): acc_train: 0.87 || acc_test: 0.8274\n",
      "Net (1st:16, 2nd:50, Alpha:0.00229): acc_train: 0.82 || acc_test: 0.8481\n",
      "Net (1st:16, 2nd:50, Alpha:0.00229): acc_train: 0.92 || acc_test: 0.8359\n",
      "Net (1st:16, 2nd:50, Alpha:0.00229): acc_train: 0.83 || acc_test: 0.8063\n",
      "Net (1st:16, 2nd:50, Alpha:0.00229): acc_train: 0.88 || acc_test: 0.8232\n",
      "Net (1st:16, 2nd:50, Alpha:0.00229): acc_train: 0.78 || acc_test: 0.8314\n",
      "Net (1st:18, 2nd:50, Alpha:0.00229): acc_train: 0.82 || acc_test: 0.8233\n",
      "Net (1st:16, 2nd:50, Alpha:0.00229): acc_train: 0.89 || acc_test: 0.8349\n",
      "Best of that Generation:  [18, 50, 229, 0]\n",
      "------ GEN 5 ------\n",
      "------------------------------\n",
      "------------------------------\n"
     ]
    },
    {
     "ename": "NameError",
     "evalue": "name 'xx' is not defined",
     "output_type": "error",
     "traceback": [
      "\u001b[1;31m---------------------------------------------------------------------------\u001b[0m",
      "\u001b[1;31mNameError\u001b[0m                                 Traceback (most recent call last)",
      "\u001b[1;32m<ipython-input-68-2faebc73b84f>\u001b[0m in \u001b[0;36m<module>\u001b[1;34m()\u001b[0m\n\u001b[0;32m     10\u001b[0m \u001b[0mprint\u001b[0m\u001b[1;33m(\u001b[0m\u001b[1;34m\"------------------------------\"\u001b[0m\u001b[1;33m)\u001b[0m\u001b[1;33m\u001b[0m\u001b[0m\n\u001b[0;32m     11\u001b[0m \u001b[0mprint\u001b[0m\u001b[1;33m(\u001b[0m\u001b[1;34m\"------------------------------\"\u001b[0m\u001b[1;33m)\u001b[0m\u001b[1;33m\u001b[0m\u001b[0m\n\u001b[1;32m---> 12\u001b[1;33m \u001b[0mplot_graph\u001b[0m\u001b[1;33m(\u001b[0m\u001b[0meval_history\u001b[0m\u001b[1;33m)\u001b[0m\u001b[1;33m\u001b[0m\u001b[0m\n\u001b[0m",
      "\u001b[1;32m<ipython-input-65-1f3e9d631d67>\u001b[0m in \u001b[0;36mplot_graph\u001b[1;34m(eval_history)\u001b[0m\n\u001b[0;32m      5\u001b[0m     \u001b[0my\u001b[0m \u001b[1;33m=\u001b[0m \u001b[0meval_history\u001b[0m\u001b[1;33m\u001b[0m\u001b[0m\n\u001b[0;32m      6\u001b[0m     \u001b[1;31m# Define plots.\u001b[0m\u001b[1;33m\u001b[0m\u001b[1;33m\u001b[0m\u001b[0m\n\u001b[1;32m----> 7\u001b[1;33m     \u001b[0mplt\u001b[0m\u001b[1;33m.\u001b[0m\u001b[0mplot\u001b[0m\u001b[1;33m(\u001b[0m\u001b[0mxx\u001b[0m\u001b[1;33m,\u001b[0m \u001b[0minterp\u001b[0m\u001b[1;33m(\u001b[0m\u001b[0mxx\u001b[0m\u001b[1;33m)\u001b[0m\u001b[1;33m)\u001b[0m\u001b[1;33m\u001b[0m\u001b[0m\n\u001b[0m\u001b[0;32m      8\u001b[0m     \u001b[0mplt\u001b[0m\u001b[1;33m.\u001b[0m\u001b[0mplot\u001b[0m\u001b[1;33m(\u001b[0m\u001b[0mx\u001b[0m\u001b[1;33m,\u001b[0m \u001b[0my\u001b[0m\u001b[1;33m,\u001b[0m \u001b[1;34m'r.'\u001b[0m\u001b[1;33m)\u001b[0m\u001b[1;33m\u001b[0m\u001b[0m\n\u001b[0;32m      9\u001b[0m     \u001b[0mplt\u001b[0m\u001b[1;33m.\u001b[0m\u001b[0mgrid\u001b[0m\u001b[1;33m(\u001b[0m\u001b[1;32mTrue\u001b[0m\u001b[1;33m)\u001b[0m\u001b[1;33m\u001b[0m\u001b[0m\n",
      "\u001b[1;31mNameError\u001b[0m: name 'xx' is not defined"
     ]
    }
   ],
   "source": [
    "pop = population(N_NETS, N_LAYERS, N_MIN_NEURONS, N_MAX_NEURONS, ALPHA_MAX, ALPHA_MIN)\n",
    "evaluation = evaluate(pop)\n",
    "eval_history = [evaluation] # Record w/ the average acc of all generations\n",
    "\n",
    "for i in range(N_ITER):\n",
    "    pop = evolve(pop, N_MIN_NEURONS, N_MAX_NEURONS, N_NETS, N_LAYERS, RETAIN, RANDOM_ADD, MUTATION)\n",
    "    print(\"------ GEN \"+str(i+1)+\" ------\")\n",
    "    eval_history.append(evaluate(pop))\n",
    "\n",
    "print(\"------------------------------\")\n",
    "print(\"------------------------------\")\n",
    "print(eval_histtory)\n",
    "plot_graph(eval_history)"
   ]
  },
  {
   "cell_type": "code",
   "execution_count": null,
   "metadata": {
    "collapsed": true
   },
   "outputs": [],
   "source": []
  }
 ],
 "metadata": {
  "kernelspec": {
   "display_name": "Python 3",
   "language": "python",
   "name": "python3"
  },
  "language_info": {
   "codemirror_mode": {
    "name": "ipython",
    "version": 3
   },
   "file_extension": ".py",
   "mimetype": "text/x-python",
   "name": "python",
   "nbconvert_exporter": "python",
   "pygments_lexer": "ipython3",
   "version": "3.5.3"
  }
 },
 "nbformat": 4,
 "nbformat_minor": 2
}
