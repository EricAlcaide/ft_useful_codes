{
 "cells": [
  {
   "cell_type": "markdown",
   "metadata": {},
   "source": [
    "# Evolutionary Strategies to evolve Neural Networks"
   ]
  },
  {
   "cell_type": "code",
   "execution_count": 3,
   "metadata": {
    "collapsed": true
   },
   "outputs": [],
   "source": [
    "# Import the necessary modules\n",
    "import numpy as np\n",
    "import matplotlib.pyplot as plt\n",
    "from scipy.interpolate import pchip\n",
    "from random import random, randint\n",
    "import tensorflow as tf\n",
    "from operator import add\n",
    "from functools import reduce"
   ]
  },
  {
   "cell_type": "code",
   "execution_count": 29,
   "metadata": {},
   "outputs": [
    {
     "name": "stdout",
     "output_type": "stream",
     "text": [
      "Extracting MNIST_data/train-images-idx3-ubyte.gz\n",
      "Extracting MNIST_data/train-labels-idx1-ubyte.gz\n",
      "Extracting MNIST_data/t10k-images-idx3-ubyte.gz\n",
      "Extracting MNIST_data/t10k-labels-idx1-ubyte.gz\n"
     ]
    }
   ],
   "source": [
    "from tensorflow.examples.tutorials.mnist import input_data\n",
    "mnist = input_data.read_data_sets(\"MNIST_data/\", one_hot=True)"
   ]
  },
  {
   "cell_type": "code",
   "execution_count": 46,
   "metadata": {
    "collapsed": true
   },
   "outputs": [],
   "source": [
    "# Create an individual here // n_layers + space for accuracy\n",
    "def individual(n_layers, minimum, maximum, alpha_max, alpha_min):\n",
    "\treturn [ randint(minimum, maximum) for n in range(n_layers)]+[randint(alpha_min, alpha_max), 0]"
   ]
  },
  {
   "cell_type": "code",
   "execution_count": 44,
   "metadata": {
    "collapsed": true
   },
   "outputs": [],
   "source": [
    "# Create the population here\n",
    "def population(n_nets, n_layers, minimum, maximum, alpha_max, alpha_min):\n",
    "\treturn [ individual(n_layers, minimum, maximum, alpha_max, alpha_min) for n in range(n_nets) ]"
   ]
  },
  {
   "cell_type": "code",
   "execution_count": 48,
   "metadata": {
    "collapsed": true
   },
   "outputs": [],
   "source": [
    "# Measure the fitness of an entire population. Lower is better.\n",
    "def evaluate(population):\n",
    "\ttotal = reduce(add, ([n[-1] for n in population]), 0)\n",
    "\treturn total / float(len(population))"
   ]
  },
  {
   "cell_type": "code",
   "execution_count": 86,
   "metadata": {},
   "outputs": [],
   "source": [
    "# Evolve individuals and create the next generation. Select the 20% best. Not the best approach\n",
    "def evolve(population, minimum, maximum, n_nets, n_layers, retain, random_aditional, mutation):\n",
    "    tupled = [ neural(net) for net in population ]\n",
    "    tupled = [ net for net in sorted(tupled, key=lambda x: x[-1], reverse=True)]\n",
    "    retain_length = int(retain*n_nets)\n",
    "    \n",
    "    # Print the best Net of the generation\n",
    "    print(\"Best of that Generation: \",tupled[0])\n",
    "    # Continue\n",
    "    \n",
    "    parents = tupled[:retain_length]\n",
    "    # Select other individuals randomly to maintain genetic diversity. Could be avoided with a better approach.\n",
    "    for net in tupled[retain_length:]:\n",
    "        if random_aditional > random():\n",
    "            parents.append(net)\n",
    "    # Mutate some individuals to maintain genetic diversity\n",
    "    for net in parents:\n",
    "        for i in range(n_layers):\n",
    "            if mutation > random():\n",
    "                net[i] = randint(minimum, maximum)\n",
    "    # Crossover of parents to generate children\n",
    "    parents_length = len(parents)\n",
    "    children_maxlength = n_nets - parents_length\n",
    "    children = []\n",
    "    while len(children) < children_maxlength:\n",
    "        male = randint(0, parents_length-1)\n",
    "        female = randint(0, parents_length-1)\n",
    "        if male != female:\n",
    "            male = parents[male]\n",
    "            female = parents[female]\n",
    "            cross_point = randint(0, n_layers+2)\n",
    "            child = male[:cross_point]+female[cross_point:] \t\t\t# Combine male and female\n",
    "            children.append(child)\n",
    "    parents.extend(children)\t\t\t\t\t\t\t\t\t\t\t# Extend parents list by appending children list\n",
    "    return parents \t\t\t\t\t\t\t\t\t\t\t\t# Return the next Generation of individuals\n"
   ]
  },
  {
   "cell_type": "code",
   "execution_count": 88,
   "metadata": {
    "collapsed": true
   },
   "outputs": [],
   "source": [
    "# Get the accuracy for a given neural net\n",
    "def neural(net):\n",
    "    \n",
    "    batch_size = 100\n",
    "    K = net[0]\n",
    "    L = net[1]\n",
    "    alpha = net[2]/100000\n",
    "\n",
    "    W1 = tf.Variable(tf.truncated_normal([28*28, K], stddev = 0.1))\n",
    "    B1 = tf.Variable(tf.zeros([K]))\n",
    "    W2 = tf.Variable(tf.truncated_normal([K, L], stddev = 0.1))\n",
    "    B2 = tf.Variable(tf.zeros([L]))\n",
    "    W3 = tf.Variable(tf.truncated_normal([L, 10], stddev = 0.1))\n",
    "    B3 = tf.Variable(tf.zeros([10]))\n",
    "\n",
    "    X = tf.placeholder(tf.float32, [None, 28 * 28]) \t# One layer because 28*28 gray-scaled images, the None will become the batch size\n",
    "    X = tf.reshape(X, [-1, 28*28])\n",
    "\n",
    "    # Defining the model - changing relu by my_function\n",
    "    Y1 = tf.nn.relu(tf.matmul(X, W1) + B1)\n",
    "    Y2 = tf.nn.relu(tf.matmul(Y1, W2) + B2)\n",
    "    Y3 = tf.nn.softmax(tf.matmul(Y2, W3) + B3)\n",
    "\n",
    "    init = tf.global_variables_initializer()\n",
    "\n",
    "    # Defining the placeholder for correct answers\n",
    "    Y_ = tf.placeholder(tf.float32, [None, 10]) \t\t# \"One-hot\" encoded vector (00001000000)\n",
    "\n",
    "    # SUCCESS metrics\n",
    "    # Loss function to determine how bad is the model\n",
    "    cross_entropy = -tf.reduce_sum(Y_ * tf.log(Y3)) \t# If Y is 1, log(Y) = 0, if Y is 0, log(Y) = -infinite\n",
    "    # % of correct answers found in batch\n",
    "    is_correct = tf.equal(tf.argmax(Y3, 1), tf.argmax(Y_, 1))\t# \"One-hot\" decoding here\n",
    "    accuracy = tf.reduce_mean(tf.cast(is_correct, tf.float32))\n",
    "\n",
    "    # Training step\n",
    "    optimizer = tf.train.GradientDescentOptimizer(alpha)\n",
    "    train_step = optimizer.minimize(cross_entropy)\n",
    "\n",
    "    # RUN the fuckin' code here\n",
    "    sess = tf.Session() \t\t\t\t\t\t\t\t# Code in tf is not computed until RUN\n",
    "    sess.run(init)\n",
    "    # Training loop\n",
    "    for i in range(125):\n",
    "        # Load batch of images and correct answers\n",
    "        batch_X, batch_Y = mnist.train.next_batch(batch_size)\t# Train on mini_batches of 100 images\n",
    "        train_data = {X: batch_X, Y_: batch_Y}\n",
    "        # Train\n",
    "        sess.run(train_step, feed_dict = train_data)\n",
    "        # {X: batch_X, Y_: batch_Y}\n",
    "        \n",
    "    # Succes on training data\n",
    "    a_tr, c_tr = sess.run([accuracy, cross_entropy], feed_dict = train_data)\n",
    "    # Success on test data?\n",
    "    test_data = {X: mnist.test.images, Y_: mnist.test.labels}\n",
    "    a_test, c_test = sess.run([accuracy, cross_entropy], feed_dict = test_data)\n",
    "    print(\"Net (1st:\"+str(K)+\", 2nd:\"+str(L)+\", Alpha:\"+str(alpha)+\"): acc_train:\", a_tr, \"|| acc_test:\", a_test)\n",
    "    \n",
    "    sess.close() # Closing the session\n",
    "    \n",
    "    return [K, L, alpha*1000, a_test*100]"
   ]
  },
  {
   "cell_type": "code",
   "execution_count": 41,
   "metadata": {},
   "outputs": [
    {
     "name": "stdout",
     "output_type": "stream",
     "text": [
      "Net (1st:56, 2nd:81): acc_train: 0.89 || acc_test: 0.9118\n",
      "[56, 81, 0.00085, 91.180002689361572]\n",
      "Net (1st:2, 2nd:45): acc_train: 0.66 || acc_test: 0.5794\n",
      "[2, 45, 0.00114, 57.940000295639038]\n",
      "Net (1st:50, 2nd:60): acc_train: 0.96 || acc_test: 0.9282\n",
      "[50, 60, 0.0017, 92.820000648498535]\n",
      "Net (1st:22, 2nd:86): acc_train: 0.9 || acc_test: 0.9035\n",
      "[22, 86, 0.00111, 90.35000205039978]\n",
      "Net (1st:9, 2nd:93): acc_train: 0.94 || acc_test: 0.8979\n",
      "[9, 93, 0.0018, 89.789998531341553]\n"
     ]
    }
   ],
   "source": [
    "for i in range(5):\n",
    "    print(neural([randint(1,100), randint(1,100), randint(1,300), 0]))"
   ]
  },
  {
   "cell_type": "code",
   "execution_count": 75,
   "metadata": {
    "collapsed": true
   },
   "outputs": [],
   "source": [
    "# Declare parameters\n",
    "N_MAX_NEURONS = 100\n",
    "N_MIN_NEURONS = 1\n",
    "ALPHA_MAX = 300\n",
    "ALPHA_MIN = 1\n",
    "N_LAYERS = 2\n",
    "N_NETS = 10\n",
    "N_ITER = 5\n",
    "RETAIN = 0.2\n",
    "MUTATION = RANDOM_ADD = 0.1"
   ]
  },
  {
   "cell_type": "code",
   "execution_count": 80,
   "metadata": {},
   "outputs": [],
   "source": [
    "# Plot the Fitness of each generation. Lower is better\n",
    "def plot_graph(eval_history):\n",
    "    x = [g for g in range(len(eval_history))]\n",
    "    # Data to be interpolated.\n",
    "    y = eval_history\n",
    "    # Define plots.\n",
    "    plt.plot(x, y, 'r.')\n",
    "    plt.grid(True)\n",
    "    plt.title(\"Graph visualization\")\n",
    "    plt.xlabel(\"Generations\")\n",
    "    plt.ylabel(\"Average Accuracy after 10o learning episodes\")\n",
    "    # Plot it all\n",
    "    plt.show()"
   ]
  },
  {
   "cell_type": "code",
   "execution_count": 89,
   "metadata": {},
   "outputs": [
    {
     "name": "stdout",
     "output_type": "stream",
     "text": [
      "Net (1st:51, 2nd:1, Alpha:0.00105): acc_train: 0.24 || acc_test: 0.2077\n",
      "Net (1st:95, 2nd:81, Alpha:0.00105): acc_train: 0.92 || acc_test: 0.8731\n",
      "Net (1st:32, 2nd:3, Alpha:0.00225): acc_train: 0.42 || acc_test: 0.4271\n",
      "Net (1st:55, 2nd:61, Alpha:0.003): acc_train: 0.94 || acc_test: 0.8695\n",
      "Net (1st:18, 2nd:82, Alpha:0.00085): acc_train: 0.71 || acc_test: 0.766\n",
      "Net (1st:36, 2nd:72, Alpha:0.00223): acc_train: 0.91 || acc_test: 0.8769\n",
      "Net (1st:90, 2nd:18, Alpha:0.00198): acc_train: 0.84 || acc_test: 0.7779\n",
      "Net (1st:28, 2nd:51, Alpha:0.00041): acc_train: 0.53 || acc_test: 0.5143\n",
      "Net (1st:35, 2nd:31, Alpha:0.00106): acc_train: 0.82 || acc_test: 0.7131\n",
      "Net (1st:34, 2nd:24, Alpha:0.00018): acc_train: 0.2 || acc_test: 0.2643\n",
      "Best of that Generation:  [36, 72, 2.2300000000000004, 87.690001726150513]\n",
      "------ GEN 1 ------\n",
      "Net (1st:36, 2nd:72, Alpha:2.2300000000000003e-05): acc_train: 0.08 || acc_test: 0.1548\n",
      "Net (1st:95, 2nd:81, Alpha:1.0500000000000001e-05): acc_train: 0.15 || acc_test: 0.1651\n",
      "Net (1st:95, 2nd:81, Alpha:1.0500000000000001e-05): acc_train: 0.1 || acc_test: 0.142\n",
      "Net (1st:36, 2nd:72, Alpha:2.2300000000000003e-05): acc_train: 0.06 || acc_test: 0.1073\n",
      "Net (1st:36, 2nd:72, Alpha:2.2300000000000003e-05): acc_train: 0.21 || acc_test: 0.1502\n",
      "Net (1st:95, 2nd:81, Alpha:2.2300000000000003e-05): acc_train: 0.1 || acc_test: 0.111\n",
      "Net (1st:95, 2nd:81, Alpha:1.0500000000000001e-05): acc_train: 0.07 || acc_test: 0.0866\n",
      "Net (1st:36, 2nd:72, Alpha:2.2300000000000003e-05): acc_train: 0.08 || acc_test: 0.1055\n",
      "Net (1st:36, 2nd:72, Alpha:2.2300000000000003e-05): acc_train: 0.09 || acc_test: 0.1349\n",
      "Net (1st:95, 2nd:72, Alpha:2.2300000000000003e-05): acc_train: 0.07 || acc_test: 0.1326\n",
      "Best of that Generation:  [95, 81, 0.0105, 16.509999334812164]\n",
      "------ GEN 2 ------\n",
      "Net (1st:95, 2nd:81, Alpha:1.05e-07): acc_train: 0.09 || acc_test: 0.0939\n",
      "Net (1st:36, 2nd:72, Alpha:2.2300000000000005e-07): acc_train: 0.05 || acc_test: 0.0635\n",
      "Net (1st:36, 2nd:72, Alpha:2.2300000000000005e-07): acc_train: 0.06 || acc_test: 0.1188\n",
      "Net (1st:36, 2nd:72, Alpha:2.2300000000000005e-07): acc_train: 0.05 || acc_test: 0.0661\n",
      "Net (1st:95, 2nd:81, Alpha:2.2300000000000005e-07): acc_train: 0.13 || acc_test: 0.1404\n",
      "Net (1st:36, 2nd:72, Alpha:2.2300000000000005e-07): acc_train: 0.06 || acc_test: 0.1133\n",
      "Net (1st:95, 2nd:72, Alpha:2.2300000000000005e-07): acc_train: 0.07 || acc_test: 0.0843\n",
      "Net (1st:95, 2nd:81, Alpha:2.2300000000000005e-07): acc_train: 0.11 || acc_test: 0.1046\n",
      "Net (1st:36, 2nd:72, Alpha:2.2300000000000005e-07): acc_train: 0.12 || acc_test: 0.1107\n",
      "Net (1st:36, 2nd:72, Alpha:1.05e-07): acc_train: 0.1 || acc_test: 0.0538\n",
      "Best of that Generation:  [95, 81, 0.00022300000000000005, 14.040000736713409]\n",
      "------ GEN 3 ------\n",
      "Net (1st:95, 2nd:81, Alpha:2.2300000000000004e-09): acc_train: 0.11 || acc_test: 0.118\n",
      "Net (1st:36, 2nd:72, Alpha:2.2300000000000004e-09): acc_train: 0.13 || acc_test: 0.1177\n",
      "Net (1st:95, 2nd:72, Alpha:2.2300000000000004e-09): acc_train: 0.13 || acc_test: 0.12\n",
      "Net (1st:95, 2nd:72, Alpha:2.2300000000000004e-09): acc_train: 0.09 || acc_test: 0.0858\n",
      "Net (1st:95, 2nd:72, Alpha:2.2300000000000004e-09): acc_train: 0.12 || acc_test: 0.1272\n",
      "Net (1st:95, 2nd:81, Alpha:2.2300000000000004e-09): acc_train: 0.07 || acc_test: 0.055\n",
      "Net (1st:95, 2nd:72, Alpha:2.2300000000000004e-09): acc_train: 0.08 || acc_test: 0.0965\n",
      "Net (1st:95, 2nd:72, Alpha:2.2300000000000004e-09): acc_train: 0.11 || acc_test: 0.1076\n",
      "Net (1st:95, 2nd:72, Alpha:2.2300000000000004e-09): acc_train: 0.03 || acc_test: 0.0726\n",
      "Net (1st:95, 2nd:72, Alpha:2.2300000000000004e-09): acc_train: 0.11 || acc_test: 0.0933\n",
      "Best of that Generation:  [95, 72, 2.2300000000000002e-06, 12.720000743865967]\n",
      "------ GEN 4 ------\n",
      "Net (1st:62, 2nd:72, Alpha:2.2300000000000003e-11): acc_train: 0.07 || acc_test: 0.1033\n",
      "Net (1st:95, 2nd:72, Alpha:2.2300000000000003e-11): acc_train: 0.1 || acc_test: 0.0952\n",
      "Net (1st:95, 2nd:72, Alpha:2.2300000000000003e-11): acc_train: 0.07 || acc_test: 0.0786\n",
      "Net (1st:95, 2nd:72, Alpha:2.2300000000000003e-11): acc_train: 0.17 || acc_test: 0.1177\n",
      "Net (1st:95, 2nd:72, Alpha:2.2300000000000003e-11): acc_train: 0.07 || acc_test: 0.0896\n",
      "Net (1st:62, 2nd:72, Alpha:2.2300000000000003e-11): acc_train: 0.08 || acc_test: 0.0918\n",
      "Net (1st:95, 2nd:72, Alpha:2.2300000000000003e-11): acc_train: 0.13 || acc_test: 0.1344\n",
      "Net (1st:95, 2nd:72, Alpha:2.2300000000000003e-11): acc_train: 0.19 || acc_test: 0.1514\n",
      "Net (1st:95, 2nd:72, Alpha:2.2300000000000003e-11): acc_train: 0.13 || acc_test: 0.0918\n",
      "Net (1st:95, 2nd:72, Alpha:2.2300000000000003e-11): acc_train: 0.14 || acc_test: 0.1252\n",
      "Best of that Generation:  [95, 72, 2.2300000000000004e-08, 15.139999985694885]\n",
      "------ GEN 5 ------\n",
      "------------------------------\n",
      "------------------------------\n",
      "[0.0, 87.576000690460205, 15.89199960231781, 11.019000113010406, 11.968000158667564, 11.159999743103981]\n"
     ]
    },
    {
     "data": {
      "image/png": "[encoded data removed]",
      "text/plain": [
       "<matplotlib.figure.Figure at 0x1960fabc080>"
      ]
     },
     "metadata": {},
     "output_type": "display_data"
    }
   ],
   "source": [
    "pop = population(N_NETS, N_LAYERS, N_MIN_NEURONS, N_MAX_NEURONS, ALPHA_MAX, ALPHA_MIN)\n",
    "evaluation = evaluate(pop)\n",
    "eval_history = [evaluation] # Record w/ the average acc of all generations\n",
    "\n",
    "for i in range(N_ITER):\n",
    "    pop = evolve(pop, N_MIN_NEURONS, N_MAX_NEURONS, N_NETS, N_LAYERS, RETAIN, RANDOM_ADD, MUTATION)\n",
    "    print(\"------ GEN \"+str(i+1)+\" ------\")\n",
    "    eval_history.append(evaluate(pop))\n",
    "\n",
    "print(\"------------------------------\")\n",
    "print(\"------------------------------\")\n",
    "print(eval_history)\n",
    "plot_graph(eval_history)"
   ]
  },
  {
   "cell_type": "code",
   "execution_count": null,
   "metadata": {
    "collapsed": true
   },
   "outputs": [],
   "source": []
  }
 ],
 "metadata": {
  "kernelspec": {
   "display_name": "Python 3",
   "language": "python",
   "name": "python3"
  },
  "language_info": {
   "codemirror_mode": {
    "name": "ipython",
    "version": 3
   },
   "file_extension": ".py",
   "mimetype": "text/x-python",
   "name": "python",
   "nbconvert_exporter": "python",
   "pygments_lexer": "ipython3",
   "version": "3.5.3"
  }
 },
 "nbformat": 4,
 "nbformat_minor": 2
}
