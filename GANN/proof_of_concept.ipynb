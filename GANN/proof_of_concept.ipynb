{
 "cells": [
  {
   "cell_type": "markdown",
   "metadata": {},
   "source": [
    "# Evolutionary Strategies to evolve Neural Networks"
   ]
  },
  {
   "cell_type": "code",
   "execution_count": 4,
   "metadata": {
    "collapsed": true
   },
   "outputs": [],
   "source": [
    "# Import the necessary modules\n",
    "import numpy as np\n",
    "import matplotlib.pyplot as plt\n",
    "from scipy.interpolate import pchip\n",
    "from random import random, randint\n",
    "import tensorflow as tf\n",
    "from operator import add\n",
    "from functools import reduce\n",
    "from scipy.interpolate import pchip"
   ]
  },
  {
   "cell_type": "code",
   "execution_count": 15,
   "metadata": {},
   "outputs": [
    {
     "name": "stdout",
     "output_type": "stream",
     "text": [
      "Extracting MNIST_data/train-images-idx3-ubyte.gz\n",
      "Extracting MNIST_data/train-labels-idx1-ubyte.gz\n",
      "Extracting MNIST_data/t10k-images-idx3-ubyte.gz\n",
      "Extracting MNIST_data/t10k-labels-idx1-ubyte.gz\n"
     ]
    }
   ],
   "source": [
    "from tensorflow.examples.tutorials.mnist import input_data\n",
    "mnist = input_data.read_data_sets(\"MNIST_data/\", one_hot=True)"
   ]
  },
  {
   "cell_type": "code",
   "execution_count": 16,
   "metadata": {
    "collapsed": true
   },
   "outputs": [],
   "source": [
    "# Create an individual here // n_layers + space for accuracy\n",
    "def individual(n_layers, minimum, maximum, alpha_max, alpha_min):\n",
    "\treturn [ randint(minimum, maximum) for n in range(n_layers)]+[randint(alpha_min, alpha_max), 0]"
   ]
  },
  {
   "cell_type": "code",
   "execution_count": 17,
   "metadata": {
    "collapsed": true
   },
   "outputs": [],
   "source": [
    "# Create the population here\n",
    "def population(n_nets, n_layers, minimum, maximum, alpha_max, alpha_min):\n",
    "\treturn [ individual(n_layers, minimum, maximum, alpha_max, alpha_min) for n in range(n_nets) ]"
   ]
  },
  {
   "cell_type": "code",
   "execution_count": 18,
   "metadata": {
    "collapsed": true
   },
   "outputs": [],
   "source": [
    "# Measure the fitness of an entire population. Lower is better.\n",
    "def evaluate(population):\n",
    "\ttotal = reduce(add, ([n[-1] for n in population]), 0)\n",
    "\treturn total / float(len(population))"
   ]
  },
  {
   "cell_type": "code",
   "execution_count": 19,
   "metadata": {
    "collapsed": true
   },
   "outputs": [],
   "source": [
    "# Evolve individuals and create the next generation. Select the 20% best. Not the best approach\n",
    "def evolve(population, minimum, maximum, n_nets, n_layers, retain, random_aditional, mutation):\n",
    "    tupled = [ neural(net) for net in population ]\n",
    "    tupled = [ net for net in sorted(tupled, key=lambda x: x[-1], reverse=True)]\n",
    "    retain_length = int(retain*n_nets)\n",
    "    \n",
    "    # Print the best Net of the generation\n",
    "    print(\"Best of that Generation: \",tupled[0])\n",
    "    # Continue\n",
    "    \n",
    "    parents = tupled[:retain_length]\n",
    "    # Select other individuals randomly to maintain genetic diversity. Could be avoided with a better approach.\n",
    "    for net in tupled[retain_length:]:\n",
    "        if random_aditional > random():\n",
    "            parents.append(net)\n",
    "    # Mutate some individuals to maintain genetic diversity\n",
    "    for net in parents:\n",
    "        for i in range(n_layers):\n",
    "            if mutation > random():\n",
    "                net[i] = randint(minimum, maximum)\n",
    "    # Crossover of parents to generate children\n",
    "    parents_length = len(parents)\n",
    "    children_maxlength = n_nets - parents_length\n",
    "    children = []\n",
    "    while len(children) < children_maxlength:\n",
    "        male = randint(0, parents_length-1)\n",
    "        female = randint(0, parents_length-1)\n",
    "        if male != female:\n",
    "            male = parents[male]\n",
    "            female = parents[female]\n",
    "            cross_point = randint(0, n_layers+2)\n",
    "            child = male[:cross_point]+female[cross_point:] \t\t\t# Combine male and female\n",
    "            children.append(child)\n",
    "    parents.extend(children)\t\t\t\t\t\t\t\t\t\t\t# Extend parents list by appending children list\n",
    "    return parents \t\t\t\t\t\t\t\t\t\t\t\t# Return the next Generation of individuals\n"
   ]
  },
  {
   "cell_type": "code",
   "execution_count": 20,
   "metadata": {
    "collapsed": true
   },
   "outputs": [],
   "source": [
    "# Get the accuracy for a given neural net\n",
    "def neural(net):\n",
    "    \n",
    "    batch_size = 100\n",
    "    K = net[0]\n",
    "    L = net[1]\n",
    "    alpha = net[2]/1000\n",
    "\n",
    "    W1 = tf.Variable(tf.truncated_normal([28*28, K], stddev = 0.1))\n",
    "    B1 = tf.Variable(tf.zeros([K]))\n",
    "    W2 = tf.Variable(tf.truncated_normal([K, L], stddev = 0.1))\n",
    "    B2 = tf.Variable(tf.zeros([L]))\n",
    "    W3 = tf.Variable(tf.truncated_normal([L, 10], stddev = 0.1))\n",
    "    B3 = tf.Variable(tf.zeros([10]))\n",
    "\n",
    "    X = tf.placeholder(tf.float32, [None, 28 * 28]) \t# One layer because 28*28 gray-scaled images, the None will become the batch size\n",
    "    X = tf.reshape(X, [-1, 28*28])\n",
    "\n",
    "    # Defining the model - changing relu by my_function\n",
    "    Y1 = tf.nn.relu(tf.matmul(X, W1) + B1)\n",
    "    Y2 = tf.nn.relu(tf.matmul(Y1, W2) + B2)\n",
    "    Y3 = tf.nn.softmax(tf.matmul(Y2, W3) + B3)\n",
    "\n",
    "    init = tf.global_variables_initializer()\n",
    "\n",
    "    # Defining the placeholder for correct answers\n",
    "    Y_ = tf.placeholder(tf.float32, [None, 10]) \t\t# \"One-hot\" encoded vector (00001000000)\n",
    "\n",
    "    # SUCCESS metrics\n",
    "    # Loss function to determine how bad is the model\n",
    "    cross_entropy = -tf.reduce_sum(Y_ * tf.log(Y3)) \t# If Y is 1, log(Y) = 0, if Y is 0, log(Y) = -infinite\n",
    "    # % of correct answers found in batch\n",
    "    is_correct = tf.equal(tf.argmax(Y3, 1), tf.argmax(Y_, 1))\t# \"One-hot\" decoding here\n",
    "    accuracy = tf.reduce_mean(tf.cast(is_correct, tf.float32))\n",
    "\n",
    "    # Training step\n",
    "    optimizer = tf.train.GradientDescentOptimizer(alpha)\n",
    "    train_step = optimizer.minimize(cross_entropy)\n",
    "\n",
    "    # RUN the fuckin' code here\n",
    "    sess = tf.Session() \t\t\t\t\t\t\t\t# Code in tf is not computed until RUN\n",
    "    sess.run(init)\n",
    "    # Training loop\n",
    "    for i in range(125):\n",
    "        # Load batch of images and correct answers\n",
    "        batch_X, batch_Y = mnist.train.next_batch(batch_size)\t# Train on mini_batches of 100 images\n",
    "        train_data = {X: batch_X, Y_: batch_Y}\n",
    "        # Train\n",
    "        sess.run(train_step, feed_dict = train_data)\n",
    "        # {X: batch_X, Y_: batch_Y}\n",
    "        \n",
    "    # Succes on training data\n",
    "    a_tr, c_tr = sess.run([accuracy, cross_entropy], feed_dict = train_data)\n",
    "    # Success on test data?\n",
    "    test_data = {X: mnist.test.images, Y_: mnist.test.labels}\n",
    "    a_test, c_test = sess.run([accuracy, cross_entropy], feed_dict = test_data)\n",
    "    print(\"Net (1st:\"+str(K)+\", 2nd:\"+str(L)+\", Alpha:\"+str(alpha)+\"): acc_train:\", a_tr, \"|| acc_test:\", a_test)\n",
    "    \n",
    "    sess.close() # Closing the session\n",
    "    \n",
    "    return [K, L, alpha*1000, a_test*100]"
   ]
  },
  {
   "cell_type": "code",
   "execution_count": 21,
   "metadata": {},
   "outputs": [
    {
     "name": "stdout",
     "output_type": "stream",
     "text": [
      "Net (1st:4, 2nd:33, Alpha:0.121): acc_train: 0.16 || acc_test: 0.098\n",
      "[4, 33, 121.0, 9.7999997437000275]\n",
      "Net (1st:84, 2nd:97, Alpha:0.236): acc_train: 0.14 || acc_test: 0.098\n",
      "[84, 97, 236.0, 9.7999997437000275]\n",
      "Net (1st:52, 2nd:77, Alpha:0.118): acc_train: 0.08 || acc_test: 0.098\n",
      "[52, 77, 118.0, 9.7999997437000275]\n",
      "Net (1st:7, 2nd:31, Alpha:0.093): acc_train: 0.06 || acc_test: 0.098\n",
      "[7, 31, 93.0, 9.7999997437000275]\n",
      "Net (1st:96, 2nd:93, Alpha:0.132): acc_train: 0.13 || acc_test: 0.098\n",
      "[96, 93, 132.0, 9.7999997437000275]\n"
     ]
    }
   ],
   "source": [
    "for i in range(5):\n",
    "    print(neural([randint(1,100), randint(1,100), randint(1,300), 0]))"
   ]
  },
  {
   "cell_type": "code",
   "execution_count": 22,
   "metadata": {
    "collapsed": true
   },
   "outputs": [],
   "source": [
    "# Declare parameters\n",
    "N_MAX_NEURONS = 100\n",
    "N_MIN_NEURONS = 1\n",
    "ALPHA_MAX = 3\n",
    "ALPHA_MIN = 1\n",
    "N_LAYERS = 2\n",
    "N_NETS = 5\n",
    "N_ITER = 10\n",
    "RETAIN = 0.2\n",
    "MUTATION = RANDOM_ADD = 0.1"
   ]
  },
  {
   "cell_type": "code",
   "execution_count": 23,
   "metadata": {
    "collapsed": true
   },
   "outputs": [],
   "source": [
    "# Plot the Fitness of each generation. Lower is better\n",
    "def plot_graph(eval_history):\n",
    "    x = [g for g in range(len(eval_history))]\n",
    "    # Data to be interpolated.\n",
    "    y = eval_history\n",
    "    \n",
    "    # Create the interpolator.\n",
    "    interp = pchip(x, y)\n",
    "    # Dense x for the smooth curve. 2nd param = x limit. 3rd param = density \n",
    "    xx = np.linspace(0, len(eval_history)-1, generations*10)\n",
    "    # Define plots.\n",
    "    plt.plot(xx, interp(xx))\n",
    "    # Define plots.\n",
    "    plt.plot(x, y, 'r.')\n",
    "    plt.grid(True)\n",
    "    plt.title(\"Graph visualization\")\n",
    "    plt.xlabel(\"Generations\")\n",
    "    plt.ylabel(\"Average Accuracy after 10o learning episodes\")\n",
    "    # Plot it all\n",
    "    plt.show()"
   ]
  },
  {
   "cell_type": "code",
   "execution_count": null,
   "metadata": {},
   "outputs": [],
   "source": [
    "pop = population(N_NETS, N_LAYERS, N_MIN_NEURONS, N_MAX_NEURONS, ALPHA_MAX, ALPHA_MIN)\n",
    "evaluation = evaluate(pop)\n",
    "eval_history = [evaluation] # Record w/ the average acc of all generations\n",
    "\n",
    "for i in range(N_ITER):\n",
    "    pop = evolve(pop, N_MIN_NEURONS, N_MAX_NEURONS, N_NETS, N_LAYERS, RETAIN, RANDOM_ADD, MUTATION)\n",
    "    print(\"------ GEN \"+str(i+1)+\" ------\")\n",
    "    eval_history.append(evaluate(pop))\n",
    "\n",
    "print(\"------------------------------\")\n",
    "print(\"------------------------------\")\n",
    "print(eval_history)\n",
    "plot_graph(eval_history)"
   ]
  },
  {
   "cell_type": "code",
   "execution_count": null,
   "metadata": {
    "collapsed": true
   },
   "outputs": [],
   "source": []
  }
 ],
 "metadata": {
  "kernelspec": {
   "display_name": "Python 3",
   "language": "python",
   "name": "python3"
  },
  "language_info": {
   "codemirror_mode": {
    "name": "ipython",
    "version": 3
   },
   "file_extension": ".py",
   "mimetype": "text/x-python",
   "name": "python",
   "nbconvert_exporter": "python",
   "pygments_lexer": "ipython3",
   "version": "3.6.1"
  }
 },
 "nbformat": 4,
 "nbformat_minor": 2
}
