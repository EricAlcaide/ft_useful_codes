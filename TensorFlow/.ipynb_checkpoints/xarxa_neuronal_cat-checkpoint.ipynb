{
 "cells": [
  {
   "cell_type": "markdown",
   "metadata": {},
   "source": [
    "# Xarxa Neuronal Bàsica amb MNIST\n",
    "\n",
    "Aquest document ha estat creat per l'[Eric Alcaide](https://github.com/EricAlcaide)\n"
   ]
  },
  {
   "cell_type": "markdown",
   "metadata": {},
   "source": [
    "## Introducció\n",
    "\n",
    "Aquest arxiu ha estat creat amb l'objectiu de demostrar que els ordinadors poden aprendre. En aquest cas, entrenarem una xarxa neuronal bàsica per tal de reconèixer caràcters escrits a mà.\n",
    "\n",
    "Primerament, carregarem el set de dades MNIST, un conjunt de 70.000 imatges de números escrits a mà amb la seva corresponent classificació/etiqueta. Aquestes 70.000 imatges es divideixen en: 55.000 imatges per a l'entrenament, 5.000 imatges per a la validació i 10.000 més per a l'avaluament.\n",
    "Posteriorment crearem el **model** (part del programa que serà l'encarregada \"d'aprendre\") amb Tensorflow, l'entrenarem per tal d'optimitzar la seva eficàcia i l'avaluarem. Posteriorment comentarem els resultats obtinguts i extreurem conclusions. \n",
    "\n",
    "Les llibreries/dependències que usarem seran les següents:\n",
    "* **Numpy:** per tal de fer càlculs matemàtics \n",
    "* **Tensorflow:** per tal de crear el model\n",
    "* **Matplotlib:** per tal d'imprimir els gràfics i visualitzar les dades\n",
    "* **SciKit Learn:** per tal dìmprimir la matriu de confusió\n",
    "\n",
    "## Definició del problema\n",
    "\n",
    "Es tracta clarament d'un **problema de classificació** ja que a partir d'unes dades d'entrenament hem de ser capaços de classificar correctament unes dades que desconeixem. El nostre set d'imatges conté números que van del 0 al 9, per tant, són 10 números diferents. Això ens obliga a crear 10 classes diferents, una per a cada número.\n",
    "\n",
    "Com el nostre propòsit és crear un model el més basic possible, crearem una xarxa neuronal amb 10 neurones, amb l'esperançca que cadascuna s'activi al reconèixer un dígit diferent diferent. Per tant, podem dir que la xarxa neuronal que anem a crear és de capa única. Per a aplicacions reals existeixen xarxes neuronals molt més sofisticades que aconsegueixen molt millors resultats com ara xarxes multicapa, recurrents, convolucionals, etc."
   ]
  },
  {
   "cell_type": "markdown",
   "metadata": {},
   "source": [
    "## Importem les llibreries necessàries"
   ]
  },
  {
   "cell_type": "code",
   "execution_count": 1,
   "metadata": {
    "collapsed": true
   },
   "outputs": [],
   "source": [
    "%matplotlib inline\n",
    "import matplotlib.pyplot as plt\n",
    "import tensorflow as tf\n",
    "import numpy as np\n",
    "from sklearn.metrics import confusion_matrix"
   ]
  },
  {
   "cell_type": "markdown",
   "metadata": {},
   "source": [
    "*Important: Aquest projecte ha estat desenvolupat amb Python v3.5.3 i Tensorflow v1.0.1*"
   ]
  },
  {
   "cell_type": "markdown",
   "metadata": {},
   "source": [
    "## Carreguem les dades\n",
    "\n",
    "El set de dades MNIST (Modified National Institute of Standards and Technology database), d'aproximadament unes 12MB de pes, serà descarregat automàticament en cas de no trobar-se en la direcció indicada."
   ]
  },
  {
   "cell_type": "code",
   "execution_count": 2,
   "metadata": {},
   "outputs": [
    {
     "name": "stdout",
     "output_type": "stream",
     "text": [
      "Extracting MNIST_data/train-images-idx3-ubyte.gz\n",
      "Extracting MNIST_data/train-labels-idx1-ubyte.gz\n",
      "Extracting MNIST_data/t10k-images-idx3-ubyte.gz\n",
      "Extracting MNIST_data/t10k-labels-idx1-ubyte.gz\n"
     ]
    }
   ],
   "source": [
    "from tensorflow.examples.tutorials.mnist import input_data\n",
    "mnist = input_data.read_data_sets(\"MNIST_data/\", one_hot=True)"
   ]
  },
  {
   "cell_type": "markdown",
   "metadata": {},
   "source": [
    "Seguidament comprobarem el tamany dels subsets d'entrenament, validació i avaluació per tal de confirmar que les dades que hem recol·lectat són correctes"
   ]
  },
  {
   "cell_type": "code",
   "execution_count": 6,
   "metadata": {},
   "outputs": [
    {
     "name": "stdout",
     "output_type": "stream",
     "text": [
      "Tamany:\n",
      "   - Subset d'entrenament:    55000\n",
      "   - Subset de validació:     5000\n",
      "   - Subset d'avaluació:      10000\n"
     ]
    }
   ],
   "source": [
    "print(\"Tamany:\")\n",
    "print(\"   - Subset d'entrenament:   \", len(mnist.train.labels))\n",
    "print(\"   - Subset de validació:    \", len(mnist.validation.labels))\n",
    "print(\"   - Subset d'avaluació:     \", len(mnist.test.labels))"
   ]
  },
  {
   "cell_type": "markdown",
   "metadata": {},
   "source": [
    "## Codificació \"One-Hot\"\n",
    "\n",
    "El set de dades MNIST ha estat carregat amb codificació \"One-Hot\", com podem veure aquí: `one_hot=True`. Això significa que les etiquetes dels nombres han estat convertides d'un únic dígit (ex. 7), a un vector de 10 dimensions en el qual una d'elles és un 1 i les altres 0. Aquest tipus de codificació representa un avantatge per al nostre model, com veurem posteriorment.\n",
    "\n",
    "Per tal de visualitzar la codificació \"One-Hot\", imprimirem l'etiqueta dels 5 primers nombres del subset d'avaluació:"
   ]
  },
  {
   "cell_type": "code",
   "execution_count": 10,
   "metadata": {},
   "outputs": [
    {
     "name": "stdout",
     "output_type": "stream",
     "text": [
      "[[ 0.  0.  0.  0.  0.  0.  0.  1.  0.  0.]\n",
      " [ 0.  0.  1.  0.  0.  0.  0.  0.  0.  0.]\n",
      " [ 0.  1.  0.  0.  0.  0.  0.  0.  0.  0.]\n",
      " [ 1.  0.  0.  0.  0.  0.  0.  0.  0.  0.]\n",
      " [ 0.  0.  0.  0.  1.  0.  0.  0.  0.  0.]]\n"
     ]
    }
   ],
   "source": [
    "print(mnist.test.labels[0:5, :])"
   ]
  },
  {
   "cell_type": "markdown",
   "metadata": {},
   "source": [
    "Aquests vectors es poden interpretar com a números enters si prenem la posició de l'1 com a referència i li restem 1. Seguint aquesta interpretació, les corresponents etiquetes serien: 7, 2, 1, 0, 4.\n",
    "\n",
    "També necessitarem les etiquetes en format de dígit únic per a diverses mesures de comparació i d'avaluació de l'eficàcia del nostre model, així que anem a guardar-les d'aquesta manera també.\n",
    "\n",
    "Aquí és on comencem a utilitzar les funcionalitats de la llibreria NumPy per crear matrius de forma molt eficient. En aquest cas usarem la funció `argmax()` per tal d'extreure la posició del valor més alt. A Python, com a la majoria de llenguatges de programació, els índexs de les llistes i/o matrius comencen amb el 0, així quen no necessitem restar res."
   ]
  },
  {
   "cell_type": "code",
   "execution_count": 11,
   "metadata": {
    "collapsed": true
   },
   "outputs": [],
   "source": [
    "mnist.test.etiquetes = np.array([onehot.argmax() for onehot in mnist.test.labels])"
   ]
  },
  {
   "cell_type": "markdown",
   "metadata": {},
   "source": [
    "Acte seguit, imprimirem les 5 primeres etiquetes per comprobar que les dades que hem guardat són correctes:"
   ]
  },
  {
   "cell_type": "code",
   "execution_count": 14,
   "metadata": {},
   "outputs": [
    {
     "name": "stdout",
     "output_type": "stream",
     "text": [
      "[7 2 1 0 4]\n"
     ]
    }
   ],
   "source": [
    "print(mnist.test.etiquetes[0:5])"
   ]
  },
  {
   "cell_type": "markdown",
   "metadata": {},
   "source": [
    "## Dimensions de les dades\n",
    "\n",
    "Necessitarem una sèrie de paràmetres sobre el nostre set de dades per tal d'entrenar el model. Idealment, aquests paràmetres es podrien extreure del set de dades, però com ja els coneixem, els declararem simplement."
   ]
  },
  {
   "cell_type": "code",
   "execution_count": 15,
   "metadata": {
    "collapsed": true
   },
   "outputs": [],
   "source": [
    "# Sabem que les imatges d'MNIST són de 28x28 píxels\n",
    "tamany_img = 28\n",
    "\n",
    "# Les imatges són guardades en una matriu unidimensional o un vector de la següent longitud.\n",
    "img_tamany_pla = tamany_img * tamany_img\n",
    "\n",
    "# Tupla amb les dimensions de les imatges usada per redimensionar les matrius.\n",
    "forma_img = (tamany_img, tamany_img)\n",
    "\n",
    "# Nombre de classes diferents, una classe per cada número.\n",
    "num_classes = 10"
   ]
  },
  {
   "cell_type": "markdown",
   "metadata": {},
   "source": [
    "És important veure el que estem preparant en aquesta línia. Com un programa d'ordinador no pot \"veure\" com nosaltres, el que fem es agafar les imatges de 28x28 i posar-les en forma de vector unidimensional de 28x28= 784 dimensions. Aquest vector serà després proporcionata la xarxa neuronal per tal de ser classificat."
   ]
  },
  {
   "cell_type": "markdown",
   "metadata": {},
   "source": [
    "## Funcions auxiliars per tal d'imprimir imatges\n",
    "\n",
    "La següent funció serà usada per tal d'imprimir 9 imatges en format 3x3 amb la seva classificació real i la classficació predita pel nostre model:"
   ]
  },
  {
   "cell_type": "code",
   "execution_count": 33,
   "metadata": {
    "collapsed": true
   },
   "outputs": [],
   "source": [
    "def imprimeix_imgs(imgs, classe_real, classe_pred=None):\n",
    "    # Ens assegurem que hi ha tant 9 imatges com 9 etiquetes\n",
    "    assert len(imgs) == len(classe_real) == 9\n",
    "    \n",
    "    # Creem la figura amb 3x3 sub-imatges.\n",
    "    fig, axes = plt.subplots(3, 3)\n",
    "    fig.subplots_adjust(hspace=0.3, wspace=0.3)\n",
    "\n",
    "    # Imprimim les imatges amb un bucle.\n",
    "    for i, ax in enumerate(axes.flat):\n",
    "        # Imprimim imatge.\n",
    "        ax.imshow(imgs[i].reshape(forma_img), cmap='binary')\n",
    "\n",
    "        # Mostrem la classificació real i la predita pel model només si la hem proporcionat.\n",
    "        if classe_pred is None:\n",
    "            xlabel = \"Realitat: {0}\".format(classe_real[i])\n",
    "        else:\n",
    "            xlabel = \"Realitat: {0}, Pred: {1}\".format(classe_real[i], classe_pred[i])\n",
    "\n",
    "        ax.set_xlabel(xlabel)\n",
    "        \n",
    "        # Treiem els índexs dels eixos x i y.\n",
    "        ax.set_xticks([])\n",
    "        ax.set_yticks([])"
   ]
  },
  {
   "cell_type": "markdown",
   "metadata": {},
   "source": [
    "## Imprimim algunes imatges per veure si les dades són correctes\n",
    "\n",
    "Aquestes són les primeres 9 imatges del subset d'avaluació amb la seva corresponent classificació:"
   ]
  },
  {
   "cell_type": "code",
   "execution_count": 34,
   "metadata": {},
   "outputs": [
    {
     "data": {
      "image/png": "[encoded data removed]",
      "text/plain": [
       "<matplotlib.figure.Figure at 0x28427884080>"
      ]
     },
     "metadata": {},
     "output_type": "display_data"
    }
   ],
   "source": [
    "imgs = mnist.test.images[0:9]\n",
    "\n",
    "classe_real = mnist.test.etiquetes[0:9]\n",
    "\n",
    "# Plot the images and labels using our helper-function above.\n",
    "imprimeix_imgs(imgs=imgs, classe_real=classe_real)"
   ]
  },
  {
   "cell_type": "code",
   "execution_count": null,
   "metadata": {
    "collapsed": true
   },
   "outputs": [],
   "source": []
  }
 ],
 "metadata": {
  "kernelspec": {
   "display_name": "Python 3",
   "language": "python",
   "name": "python3"
  },
  "language_info": {
   "codemirror_mode": {
    "name": "ipython",
    "version": 3
   },
   "file_extension": ".py",
   "mimetype": "text/x-python",
   "name": "python",
   "nbconvert_exporter": "python",
   "pygments_lexer": "ipython3",
   "version": "3.5.3"
  }
 },
 "nbformat": 4,
 "nbformat_minor": 2
}
