{
 "cells": [
  {
   "cell_type": "markdown",
   "metadata": {},
   "source": [
    "# Xarxa Neuronal Bàsica amb MNIST\n",
    "\n",
    "Aquest document ha estat creat per l'[Eric Alcaide](https://github.com/EricAlcaide). Crèdits a [Hvass-Labs](https://github.com/Hvass-Labs) pel codi en versió original que ha estat modificat i traduït per als propòsits d'aquest treball.\n"
   ]
  },
  {
   "cell_type": "markdown",
   "metadata": {},
   "source": [
    "## Introducció\n",
    "\n",
    "Aquest arxiu ha estat creat amb l'objectiu de demostrar que els ordinadors poden aprendre. En aquest cas, entrenarem una xarxa neuronal bàsica per tal de reconèixer caràcters escrits a mà.\n",
    "\n",
    "Primerament, carregarem el set de dades MNIST, un conjunt de 70.000 imatges de números escrits a mà amb la seva corresponent classificació/etiqueta. Aquestes 70.000 imatges es divideixen en: 55.000 imatges per a l'entrenament, 5.000 imatges per a la validació i 10.000 més per a l'avaluament.\n",
    "Posteriorment crearem el **model** (part del programa que serà l'encarregada \"d'aprendre\") amb Tensorflow, l'entrenarem per tal d'optimitzar la seva eficàcia i l'avaluarem. Posteriorment comentarem els resultats obtinguts i extreurem conclusions. \n",
    "\n",
    "Les llibreries/dependències que usarem seran les següents:\n",
    "* **Numpy:** per tal de fer càlculs matemàtics \n",
    "* **Tensorflow:** per tal de crear el model\n",
    "* **Matplotlib:** per tal d'imprimir els gràfics i visualitzar les dades\n",
    "\n",
    "## Definició del problema\n",
    "\n",
    "Es tracta clarament d'un **problema de classificació** ja que a partir d'unes dades d'entrenament hem de ser capaços de classificar correctament unes dades que desconeixem. El nostre set d'imatges conté números que van del 0 al 9, per tant, són 10 números diferents. Això ens obliga a crear 10 classes diferents, una per a cada número.\n",
    "\n",
    "Com el nostre propòsit és crear un model el més basic possible, crearem una xarxa neuronal amb 10 neurones, amb l'esperançca que cadascuna s'activi al reconèixer un dígit diferent diferent. Per tant, podem dir que la xarxa neuronal que anem a crear és de capa única. Per a aplicacions reals existeixen xarxes neuronals molt més sofisticades que aconsegueixen molt millors resultats com ara xarxes multicapa, recurrents, convolucionals, etc."
   ]
  },
  {
   "cell_type": "markdown",
   "metadata": {},
   "source": [
    "## Importem les llibreries necessàries"
   ]
  },
  {
   "cell_type": "code",
   "execution_count": 1,
   "metadata": {
    "collapsed": true
   },
   "outputs": [],
   "source": [
    "%matplotlib inline\n",
    "import matplotlib.pyplot as plt\n",
    "import tensorflow as tf\n",
    "import numpy as np\n",
    "from sklearn.metrics import confusion_matrix"
   ]
  },
  {
   "cell_type": "markdown",
   "metadata": {},
   "source": [
    "*Important: Aquest projecte ha estat desenvolupat amb Python v3.5.3 i Tensorflow v1.0.1*"
   ]
  },
  {
   "cell_type": "markdown",
   "metadata": {},
   "source": [
    "## Carreguem les dades\n",
    "\n",
    "El set de dades MNIST (Modified National Institute of Standards and Technology database), d'aproximadament unes 12MB de pes, serà descarregat automàticament en cas de no trobar-se en la direcció indicada."
   ]
  },
  {
   "cell_type": "code",
   "execution_count": 2,
   "metadata": {},
   "outputs": [
    {
     "name": "stdout",
     "output_type": "stream",
     "text": [
      "Extracting MNIST_data/train-images-idx3-ubyte.gz\n",
      "Extracting MNIST_data/train-labels-idx1-ubyte.gz\n",
      "Extracting MNIST_data/t10k-images-idx3-ubyte.gz\n",
      "Extracting MNIST_data/t10k-labels-idx1-ubyte.gz\n"
     ]
    }
   ],
   "source": [
    "from tensorflow.examples.tutorials.mnist import input_data\n",
    "mnist = input_data.read_data_sets(\"MNIST_data/\", one_hot=True)"
   ]
  },
  {
   "cell_type": "markdown",
   "metadata": {},
   "source": [
    "Seguidament comprobarem el tamany dels subsets d'entrenament, validació i avaluació per tal de confirmar que les dades que hem recol·lectat són correctes"
   ]
  },
  {
   "cell_type": "code",
   "execution_count": 3,
   "metadata": {},
   "outputs": [
    {
     "name": "stdout",
     "output_type": "stream",
     "text": [
      "Tamany:\n",
      "   - Subset d'entrenament:    55000\n",
      "   - Subset de validació:     5000\n",
      "   - Subset d'avaluació:      10000\n"
     ]
    }
   ],
   "source": [
    "print(\"Tamany:\")\n",
    "print(\"   - Subset d'entrenament:   \", len(mnist.train.labels))\n",
    "print(\"   - Subset de validació:    \", len(mnist.validation.labels))\n",
    "print(\"   - Subset d'avaluació:     \", len(mnist.test.labels))"
   ]
  },
  {
   "cell_type": "markdown",
   "metadata": {},
   "source": [
    "## Codificació \"One-Hot\"\n",
    "\n",
    "El set de dades MNIST ha estat carregat amb codificació \"One-Hot\", com podem veure aquí: `one_hot=True`. Això significa que les etiquetes dels nombres han estat convertides d'un únic dígit (ex. 7), a un vector de 10 dimensions en el qual una d'elles és un 1 i les altres 0. Aquest tipus de codificació representa un avantatge per al nostre model, com veurem posteriorment.\n",
    "\n",
    "Per tal de visualitzar la codificació \"One-Hot\", imprimirem l'etiqueta dels 5 primers nombres del subset d'avaluació:"
   ]
  },
  {
   "cell_type": "code",
   "execution_count": 4,
   "metadata": {},
   "outputs": [
    {
     "name": "stdout",
     "output_type": "stream",
     "text": [
      "[[ 0.  0.  0.  0.  0.  0.  0.  1.  0.  0.]\n",
      " [ 0.  0.  1.  0.  0.  0.  0.  0.  0.  0.]\n",
      " [ 0.  1.  0.  0.  0.  0.  0.  0.  0.  0.]\n",
      " [ 1.  0.  0.  0.  0.  0.  0.  0.  0.  0.]\n",
      " [ 0.  0.  0.  0.  1.  0.  0.  0.  0.  0.]]\n"
     ]
    }
   ],
   "source": [
    "print(mnist.test.labels[0:5, :])"
   ]
  },
  {
   "cell_type": "markdown",
   "metadata": {},
   "source": [
    "Aquests vectors es poden interpretar com a números enters si prenem la posició de l'1 com a referència i li restem 1. Seguint aquesta interpretació, les corresponents etiquetes serien: 7, 2, 1, 0, 4.\n",
    "\n",
    "També necessitarem les etiquetes en format de dígit únic per a diverses mesures de comparació i d'avaluació de l'eficàcia del nostre model, així que anem a guardar-les d'aquesta manera també.\n",
    "\n",
    "Aquí és on comencem a utilitzar les funcionalitats de la llibreria NumPy per crear matrius de forma molt eficient. En aquest cas usarem la funció `argmax()` per tal d'extreure la posició del valor més alt. A Python, com a la majoria de llenguatges de programació, els índexs de les llistes i/o matrius comencen amb el 0, així quen no necessitem restar res."
   ]
  },
  {
   "cell_type": "code",
   "execution_count": 5,
   "metadata": {
    "collapsed": true
   },
   "outputs": [],
   "source": [
    "mnist.test.etiquetes = np.array([onehot.argmax() for onehot in mnist.test.labels])"
   ]
  },
  {
   "cell_type": "markdown",
   "metadata": {},
   "source": [
    "Acte seguit, imprimirem les 5 primeres etiquetes per comprobar que les dades que hem guardat són correctes:"
   ]
  },
  {
   "cell_type": "code",
   "execution_count": 6,
   "metadata": {},
   "outputs": [
    {
     "name": "stdout",
     "output_type": "stream",
     "text": [
      "[7 2 1 0 4]\n"
     ]
    }
   ],
   "source": [
    "print(mnist.test.etiquetes[0:5])"
   ]
  },
  {
   "cell_type": "markdown",
   "metadata": {},
   "source": [
    "## Dimensions de les dades\n",
    "\n",
    "Necessitarem una sèrie de paràmetres sobre el nostre set de dades per tal d'entrenar el model. Idealment, aquests paràmetres es podrien extreure del set de dades, però com ja els coneixem, els declararem simplement."
   ]
  },
  {
   "cell_type": "code",
   "execution_count": 7,
   "metadata": {
    "collapsed": true
   },
   "outputs": [],
   "source": [
    "# Sabem que les imatges d'MNIST són de 28x28 píxels\n",
    "tamany_img = 28\n",
    "# Les imatges són guardades en una matriu unidimensional o un vector de la següent longitud.\n",
    "img_tamany_pla = tamany_img * tamany_img\n",
    "# Tupla amb les dimensions de les imatges usada per redimensionar les matrius.\n",
    "forma_img = (tamany_img, tamany_img)\n",
    "# Nombre de classes diferents, una classe per cada número.\n",
    "num_classes = 10"
   ]
  },
  {
   "cell_type": "markdown",
   "metadata": {},
   "source": [
    "És important veure el que estem preparant en aquesta línia:\n",
    "```\n",
    "img_tamany_pla = tamany_img * tamany_img\n",
    "```\n",
    "Com un programa d'ordinador no pot \"veure\" com nosaltres, el que fem es agafar les imatges de 28x28 i posar-les en forma de vector unidimensional de 28x28= 784 dimensions. Aquest vector serà després proporcionat a la xarxa neuronal per tal de ser classificat."
   ]
  },
  {
   "cell_type": "markdown",
   "metadata": {},
   "source": [
    "## Funcions auxiliars per tal d'imprimir imatges\n",
    "\n",
    "La següent funció serà usada per tal d'imprimir 9 imatges en format 3x3 amb la seva classificació real i la classficació predita pel nostre model:"
   ]
  },
  {
   "cell_type": "code",
   "execution_count": 8,
   "metadata": {
    "collapsed": true
   },
   "outputs": [],
   "source": [
    "def imprimeix_imgs(imgs, classe_real, classe_pred=None):\n",
    "    # Ens assegurem que hi ha tant 9 imatges com 9 etiquetes\n",
    "    assert len(imgs) == len(classe_real) == 9\n",
    "    \n",
    "    # Creem la figura amb 3x3 sub-imatges.\n",
    "    fig, axes = plt.subplots(3, 3)\n",
    "    fig.subplots_adjust(hspace=0.3, wspace=0.3)\n",
    "\n",
    "    # Imprimim les imatges amb un bucle.\n",
    "    for i, ax in enumerate(axes.flat):\n",
    "        # Imprimim imatge.\n",
    "        ax.imshow(imgs[i].reshape(forma_img), cmap='binary')\n",
    "\n",
    "        # Mostrem la classificació real i la predita pel model només si la hem proporcionat.\n",
    "        if classe_pred is None:\n",
    "            xlabel = \"Realitat: {0}\".format(classe_real[i])\n",
    "        else:\n",
    "            xlabel = \"Realitat: {0}, Pred: {1}\".format(classe_real[i], classe_pred[i])\n",
    "\n",
    "        ax.set_xlabel(xlabel)\n",
    "        # Treiem els índexs dels eixos x i y.\n",
    "        ax.set_xticks([])\n",
    "        ax.set_yticks([])"
   ]
  },
  {
   "cell_type": "markdown",
   "metadata": {},
   "source": [
    "## Imprimim algunes imatges per veure si les dades són correctes\n",
    "\n",
    "Aquestes són les primeres 9 imatges del subset d'avaluació amb la seva corresponent classificació:"
   ]
  },
  {
   "cell_type": "code",
   "execution_count": 9,
   "metadata": {},
   "outputs": [
    {
     "data": {
      "image/png": "[encoded data removed]",
      "text/plain": [
       "<matplotlib.figure.Figure at 0x1bd1162a2e8>"
      ]
     },
     "metadata": {},
     "output_type": "display_data"
    }
   ],
   "source": [
    "imgs = mnist.test.images[0:9]\n",
    "classe_real = mnist.test.etiquetes[0:9]\n",
    "# Imprimim les imatges i les classificacions usant la funció declarada més amunt.\n",
    "imprimeix_imgs(imgs=imgs, classe_real=classe_real)"
   ]
  },
  {
   "cell_type": "markdown",
   "metadata": {
    "collapsed": true
   },
   "source": [
    "## Grafs de Tensorflow\n",
    "\n",
    "L'objectiu principal de l'utilització de TensorFlow és que proporciona moltes utilitats per tal de crear models. Una de les principals característiques de TensorFlow és que primer es construeix el graf computacional, que és una representació de totes les operacions que es duen a terme i les dades que es manipulen, i després s'executa aquest graf. D'aquesta manera, les operacions es poden dur a terme infinítament més ràpid que si les escrvíssim directament a Python. Tensorflow pot ser fins i tot més ràpid que Numpy ja que Tensorflow coneix tot el graf computacional mentre que Numpy fa una operació a cada pas.\n",
    "\n",
    "A més, Tensorflow pot calcular directament els gradients necessaris per tal d'optimitzar la nostra xarxa neuronal sense que nosaltres ho haguem de fer manualment, cosa que facilita molt el procés i augmenta la velocitat increïblement. Tensorflow, a més, pot córrer tant en CPUs com en GPUs i pot fins i tot córrer en diverses GPUs a la vegada.\n",
    "\n",
    "Els principals elements del graf de Tensorflow són els següents:\n",
    "* **Placeholders**: Variables especials que s'utilitzen per introduïr dades al graf.\n",
    "* **Variables del model**: Varaibles que han de ser optimitzades per tal que el nostre model funcioni el millor possible. \n",
    "* **Model**: Essencialment una funció matemàtica que calcula un resultat de sortida donats unes dades d'entrada en forma de placeholders i variables de model\n",
    "* **Mesura de cost**: Aquesta mesura serà usada per tal de guiar la optimització del model. Pot trobar-se en dues formes diferents:\n",
    "    * La primera és una funció que mesuri com de bo és el nostre model. Aquesta funció s'ha de maximitzar.\n",
    "    * La segona, i **molt més comuna**, és una funció que mesuri com de dolent és el nostre model. Aquesta funció s'ha de minimitzar.\n",
    "    \n",
    "    \n",
    "* **Mètode d'Optimització**. Mètode que usarem per tal de millorar el nostre model. Usarem un dels més comuns i a la vegada siumples: el **Gradient Descent** , que ja havíem usat per al perceptró."
   ]
  },
  {
   "cell_type": "markdown",
   "metadata": {},
   "source": [
    "### Placeholders\n",
    "\n",
    "Començarem per definir el placeholder `x` per a les imatges. Tindrà dues dimensions: una amb el nombre d'imatges i l'altra amb la imatge en forma de vector unidimensional de 784 dimensions.\n",
    "Posarem el nombre d'imatges com a `None` perquè el decidirem més tard de forma arbitrària."
   ]
  },
  {
   "cell_type": "code",
   "execution_count": 10,
   "metadata": {
    "collapsed": true
   },
   "outputs": [],
   "source": [
    "x = tf.placeholder(tf.float32, [None, img_tamany_pla])"
   ]
  },
  {
   "cell_type": "markdown",
   "metadata": {},
   "source": [
    "Seguidament declararem el placeholder `y_real`, amb les etiquetes corresponents a les imatges d'entrada a x amb codificació \"One-Hot\".\n"
   ]
  },
  {
   "cell_type": "code",
   "execution_count": 11,
   "metadata": {
    "collapsed": true
   },
   "outputs": [],
   "source": [
    "y_real = tf.placeholder(tf.float32, [None, num_classes])"
   ]
  },
  {
   "cell_type": "markdown",
   "metadata": {},
   "source": [
    "Per últim, declararem el placeholder `y_real_ver`, que contindrà les etiquetes per a les imatges introduïdes a x però aquest cop seràn un dígit únic."
   ]
  },
  {
   "cell_type": "code",
   "execution_count": 12,
   "metadata": {
    "collapsed": true
   },
   "outputs": [],
   "source": [
    "y_real_ver = tf.placeholder(tf.int64, [None])"
   ]
  },
  {
   "cell_type": "markdown",
   "metadata": {},
   "source": [
    "### Variables de model\n",
    "\n",
    "Acte seguit definim les variables a ser optimitzades per tal de millorar l'eficàcia del nostre model.\n",
    "\n",
    "En primer lloc, declararem els pesos de les diferents neurones, que seran inicialitzats a 0."
   ]
  },
  {
   "cell_type": "code",
   "execution_count": 13,
   "metadata": {
    "collapsed": true
   },
   "outputs": [],
   "source": [
    "pesos = tf.Variable(tf.zeros([img_tamany_pla, num_classes]))"
   ]
  },
  {
   "cell_type": "markdown",
   "metadata": {},
   "source": [
    "La segona variable a ser optimitzada serà anomenada `des` i serà la **d** en la següent equació linear: **y = p·x + d** on **y** és la classificació, **p** els pesos i **x** les imatges d'entrada en forma de vector unidimensional. Serà un vector unidimensonal de longitud 10 (número de classes) que tam,bé inicialitzarem a 0."
   ]
  },
  {
   "cell_type": "code",
   "execution_count": 14,
   "metadata": {
    "collapsed": true
   },
   "outputs": [],
   "source": [
    "des = tf.Variable(tf.zeros([num_classes]))"
   ]
  },
  {
   "cell_type": "markdown",
   "metadata": {},
   "source": [
    "### Model\n",
    "\n",
    "El nostre model serà força simple i només requerirà multiplicar les matrius X i P i afegir les desviacions D.\n",
    "Anomenarem `logits` al nostre model degut a que és un nom força usat a la comunitat de Tensorflow."
   ]
  },
  {
   "cell_type": "code",
   "execution_count": 15,
   "metadata": {
    "collapsed": true
   },
   "outputs": [],
   "source": [
    "logits = tf.matmul(x, pesos) + des"
   ]
  },
  {
   "cell_type": "markdown",
   "metadata": {},
   "source": [
    "Ara `logits` es una matriu amb tantes columnes com imatges hem proporcionat i tantes columnes com classes diferents (10), on l'element de la fila **_i_** i la columna **_j_** és l'estimació de la probabilitat que la imatge **_i_** pertanyi a la classe **_j_**.\n",
    "\n",
    "Però encara no hem acabat, ja que els nombres poden ser o massa grans o massa petits. El següent pas és normalitzar aquests números per tal que tots els components d'una fila sumin 1 i tots els valors es trobin entre 0 i 1. D'aquesta manera, el valor més gran serà la predicció del nostre model. Per tal de dur a terme aquesta normalització, usarem la funció `softmax`.\n"
   ]
  },
  {
   "cell_type": "code",
   "execution_count": 16,
   "metadata": {
    "collapsed": true
   },
   "outputs": [],
   "source": [
    "y_pred = tf.nn.softmax(logits)"
   ]
  },
  {
   "cell_type": "markdown",
   "metadata": {},
   "source": [
    "Acte seguit hem d'extreure el valor més gran de cada fila, que serà la nostra predicció per a la imatge."
   ]
  },
  {
   "cell_type": "code",
   "execution_count": 17,
   "metadata": {
    "collapsed": true
   },
   "outputs": [],
   "source": [
    "y_pred_classe = tf.argmax(y_pred, dimension=1)"
   ]
  },
  {
   "cell_type": "markdown",
   "metadata": {},
   "source": [
    "### Mesura de cost\n",
    "\n",
    "Com a mesura de cost utilitzarem l'anomenada `cross-entropy` o entropia creuada. L'entropia entre dues classes ve donada per la funció \n",
    "\n",
    "**E = - ((-P<sub>1</sub> x log<sub>2</sub> P<sub>1</sub>) + (P<sub>2</sub> x log<sub>2</sub> P<sub>2</sub>))** \n",
    "\n",
    "Nosaltres la calcularem entre els diferents números de les classificacions, la del nostre model i la classificació correcta en forma \"One-Hot\". Després sumarem les 10 entropies de les 10 classes diferents per obtenir l'entropia creuada.  "
   ]
  },
  {
   "cell_type": "code",
   "execution_count": 18,
   "metadata": {
    "collapsed": true
   },
   "outputs": [],
   "source": [
    "cross_entropy = tf.nn.softmax_cross_entropy_with_logits(logits=logits,\n",
    "                                                        labels=y_real)"
   ]
  },
  {
   "cell_type": "markdown",
   "metadata": {},
   "source": [
    "L'entropia creuada ens serveix per mesurar com està funcionant el nostre model per a cada imatge individualment, però si volem guiar el procés d'optimització amb aquesta mesura de cost hem d'aconseguir una mesura global, no individual. Per aquesta raó, farem la mitjana entre les diferents entropies creuades per a les diferents imatges."
   ]
  },
  {
   "cell_type": "code",
   "execution_count": 19,
   "metadata": {
    "collapsed": true
   },
   "outputs": [],
   "source": [
    "cost = tf.reduce_mean(cross_entropy)"
   ]
  },
  {
   "cell_type": "markdown",
   "metadata": {},
   "source": [
    "### Mètode d'optimització\n",
    "\n",
    "L'optimitzador que usarem serà el Gradient Descent, i declararem l'índex d'aprenentatge arbitràriament a 0.1. Si l'índex és massa petit necessitarem massa iteracions per tal d'aconseguir un bon resultat, però si és massa gran, anirem saltant d'una banda a l'altra i també necessitarem més iteracions de les necessàries."
   ]
  },
  {
   "cell_type": "code",
   "execution_count": 20,
   "metadata": {
    "collapsed": true
   },
   "outputs": [],
   "source": [
    "optimitzador = tf.train.GradientDescentOptimizer(learning_rate=0.1).minimize(cost)"
   ]
  },
  {
   "cell_type": "markdown",
   "metadata": {},
   "source": [
    "### Mesures d'eficàcia\n",
    "\n",
    "Per mesurar l'eficàcia del nostre model, usarem la precisió o \"accuracy\", que és el percentatge d'encerts respecte del total. També usarem el nombre d'encerts per cada error.\n",
    "\n",
    "Primerament crearem un vector de valors booleans (True/False) per tal de saber si les classificacions han estat efectuades correctament."
   ]
  },
  {
   "cell_type": "code",
   "execution_count": 21,
   "metadata": {
    "collapsed": true
   },
   "outputs": [],
   "source": [
    "pred_correcte = tf.equal(y_pred_classe, y_real_ver)"
   ]
  },
  {
   "cell_type": "markdown",
   "metadata": {
    "collapsed": true
   },
   "source": [
    "Ara canviarem els valors booleans True/False pels nombres 1/0 i mesurarem el percentatge. També calcularem el rati encerts/errors."
   ]
  },
  {
   "cell_type": "code",
   "execution_count": 22,
   "metadata": {
    "collapsed": true
   },
   "outputs": [],
   "source": [
    "canviat = tf.cast(pred_correcte, tf.float32)\n",
    "precisio = tf.reduce_mean(canviat)\n",
    "rati = tf.divide(tf.reduce_sum(canviat), tf.cast(tf.shape(pred_correcte), tf.float32))"
   ]
  },
  {
   "cell_type": "markdown",
   "metadata": {},
   "source": [
    "## Activem Tensorflow\n",
    "\n",
    "Després de construir el graf computacional, és el moment de córrer tensorflow. Primer inicialitzarem les variables i després declararem la sessió."
   ]
  },
  {
   "cell_type": "code",
   "execution_count": 23,
   "metadata": {
    "collapsed": true
   },
   "outputs": [],
   "source": [
    "init = tf.global_variables_initializer()\n",
    "sess = tf.Session()\n",
    "sess.run(init)"
   ]
  },
  {
   "cell_type": "markdown",
   "metadata": {},
   "source": [
    "### Funció auxiliar per dur a terme iteracions d'entrenament\n",
    "\n",
    "Com hi ha 55.000 imatges per a l'entrenament i seria molt lent haver de calcular tots els gradients per a cada iteració d'entrenament, entrenarem el model amb grups de 100 imatges."
   ]
  },
  {
   "cell_type": "code",
   "execution_count": 24,
   "metadata": {
    "collapsed": true
   },
   "outputs": [],
   "source": [
    "tamany_grup = 100"
   ]
  },
  {
   "cell_type": "markdown",
   "metadata": {},
   "source": [
    "Ara declararem la funció que dura a terme els episodis d'entrenament. Per a cada iteració, es seleccionaran 100 imatgtes i les seves etiquetes i s'introduïran al model per tal que Tensorflow faci les optimitzacions corresponents."
   ]
  },
  {
   "cell_type": "code",
   "execution_count": 25,
   "metadata": {
    "collapsed": true
   },
   "outputs": [],
   "source": [
    "def optimitza(num_iteracions):\n",
    "    for i in range(num_iteracions):\n",
    "        # Agafem un grup d'imatges.\n",
    "        # x_grup serà el grup d'imatges\n",
    "        # y_real_grup serà el grup d'etiquetes correctes.\n",
    "        x_grup, y_real_grup = mnist.train.next_batch(tamany_grup)\n",
    "        \n",
    "        # Posem el grup a un diccionari amb els noms dels placeholders\n",
    "        # per introduïr les dades al graf de Tensorflow.\n",
    "        diccionari_entrenament = {x: x_grup,\n",
    "                           y_real: y_real_grup}\n",
    "\n",
    "        # Activem el model usant aquest grup d'imatges.\n",
    "        # TensorFlow assigna les variables al diccionari_entrenament\n",
    "        # als placeholders i després activa el model.\n",
    "        sess.run(optimitzador, feed_dict=diccionari_entrenament)"
   ]
  },
  {
   "cell_type": "markdown",
   "metadata": {},
   "source": [
    "### Funcions auxiliars per mostrar l'eficàcia\n",
    "\n",
    "Primerament declararem un diccionari d'avaluació per tal d'avaluar el model amb imatges que encara no hagi vist per tal de veure si és capaç de generalitzar i, per tant, **aprendre**."
   ]
  },
  {
   "cell_type": "code",
   "execution_count": 26,
   "metadata": {
    "collapsed": true
   },
   "outputs": [],
   "source": [
    "diccionari_test = {x: mnist.test.images,\n",
    "                  y_real: mnist.test.labels,\n",
    "                  y_real_ver: mnist.test.etiquetes}"
   ]
  },
  {
   "cell_type": "markdown",
   "metadata": {},
   "source": [
    "La següent funció servirà per imprimir els resultats:"
   ]
  },
  {
   "cell_type": "code",
   "execution_count": 27,
   "metadata": {
    "collapsed": true
   },
   "outputs": [],
   "source": [
    "def imprimeix_res(precisio,rati):\n",
    "    # Usem Tensoflow per obtenir els resultats\n",
    "    pres = sess.run((precisio,rati), feed_dict=diccionari_test)\n",
    "    \n",
    "    (precisio,rati) = pres\n",
    "    rati = [rati*10, 10-rati*10]\n",
    "    rati = [x/min(rati[0], rati[1]) for x in rati]\n",
    "    # Imprimeix els resultats.\n",
    "    print(\"Precisió al set d'avaluació:\", precisio*100)\n",
    "    print(\"Rati encerts/errors:        \", float(rati[0]),\":\",float(rati[1]))"
   ]
  },
  {
   "cell_type": "code",
   "execution_count": 28,
   "metadata": {},
   "outputs": [
    {
     "name": "stdout",
     "output_type": "stream",
     "text": [
      "Precisió al set d'avaluació: 9.7999997437\n",
      "Rati encerts/errors:         1.0 : 9.204082489013672\n"
     ]
    }
   ],
   "source": [
    "imprimeix_res(precisio, rati)"
   ]
  },
  {
   "cell_type": "markdown",
   "metadata": {},
   "source": [
    "Com podem veure, la precisió està al voltant del 10%. Això és degut a que el model classifica inicialment tots els números com a 0 ja que encara no s'ha dut a terme cap episodi d'entrenament.\n",
    "\n",
    "Per tal de mostrar el que el model interpreta com un número, crearem la funció `mostra_pesos`, que mostrarà el conjunt de pesos que l'ordinador usa per tal de classofocar un número."
   ]
  },
  {
   "cell_type": "code",
   "execution_count": 29,
   "metadata": {
    "collapsed": true
   },
   "outputs": [],
   "source": [
    "def mostra_pesos():\n",
    "    # Agafa els valors dels pesos del graf de Tensorflow\n",
    "    p = sess.run(pesos)\n",
    "    \n",
    "    # Agafa els valors màxims i mínims per als pesos.\n",
    "    # Això serà usat per tal de construir el mapa de calor\n",
    "    # i poder comparar les imatges entre elles.\n",
    "    p_min = np.min(p)\n",
    "    p_max = np.max(p)\n",
    "\n",
    "    # Crea una figura amb 3x4 objectes\n",
    "    # Els últims 2 no s'usen\n",
    "    fig, axes = plt.subplots(3, 4)\n",
    "    fig.subplots_adjust(hspace=0.3, wspace=0.3)\n",
    "\n",
    "    for i, ax in enumerate(axes.flat):\n",
    "        if i<10:\n",
    "            # Agafa els pesos per al digit i i redimensiona'l\n",
    "            # AtenciÖ: p.shape == (img_tamany_pla, 10)\n",
    "            image = p[:, i].reshape(forma_img)\n",
    "\n",
    "            # Declara l'etiqueta per a cada objecte.\n",
    "            ax.set_xlabel(\"Pesos: {0}\".format(i))\n",
    "\n",
    "            # Mostra la imatge. Els punts verds són positius i els vermells negatius.\n",
    "            ax.imshow(image, vmin=p_min, vmax=p_max, cmap='seismic_r')\n",
    "            \n",
    "        # Treiem els índexs dels eixos x i y.\n",
    "        ax.set_xticks([])\n",
    "        ax.set_yticks([])"
   ]
  },
  {
   "cell_type": "markdown",
   "metadata": {},
   "source": [
    "Visualitzem els pesos quan encara no hem dut a terme cap iteració. Podem veure que inicialment tots punts tenen la mateixa classificació com a penalització.\n"
   ]
  },
  {
   "cell_type": "code",
   "execution_count": 30,
   "metadata": {},
   "outputs": [
    {
     "data": {
      "image/png": "[encoded data removed]",
      "text/plain": [
       "<matplotlib.figure.Figure at 0x1bd11f08128>"
      ]
     },
     "metadata": {},
     "output_type": "display_data"
    }
   ],
   "source": [
    "mostra_pesos()"
   ]
  },
  {
   "cell_type": "markdown",
   "metadata": {},
   "source": [
    "Per veure el procés d'aprenentatge, primer efectuarem una prova amb 25 iteracions, visualitzarem els pesos i després farem l'entrenament real amb 10000 iteracions."
   ]
  },
  {
   "cell_type": "code",
   "execution_count": 31,
   "metadata": {},
   "outputs": [
    {
     "name": "stdout",
     "output_type": "stream",
     "text": [
      "Precisió al set d'avaluació: 82.0599973202\n",
      "Rati encerts/errors:         4.57413387298584 : 1.0\n"
     ]
    },
    {
     "data": {
      "image/png": "[encoded data removed]",
      "text/plain": [
       "<matplotlib.figure.Figure at 0x1bd1198b4e0>"
      ]
     },
     "metadata": {},
     "output_type": "display_data"
    }
   ],
   "source": [
    "optimitza(25)\n",
    "imprimeix_res(precisio, rati)\n",
    "mostra_pesos()"
   ]
  },
  {
   "cell_type": "markdown",
   "metadata": {},
   "source": [
    "Com podem veure, el model, tot i ser molt simple (només 10 neurones en una única capa), ha après amb només 25 iteracions més o menys la forma que té un 0, un 1, un 6, un 2, un 8 i un 7. L'eficàcia del model encara és una mica fluixa (80% d'encerts amb una taxa d'errors d'un per cada 4 encerts).\n",
    "\n",
    "A continuació durem a terme l'entrenament real."
   ]
  },
  {
   "cell_type": "code",
   "execution_count": 32,
   "metadata": {},
   "outputs": [
    {
     "name": "stdout",
     "output_type": "stream",
     "text": [
      "Precisió al set d'avaluació: 92.3099994659\n",
      "Rati encerts/errors:         12.003900527954102 : 1.0\n"
     ]
    },
    {
     "data": {
      "image/png": "[encoded data removed]",
      "text/plain": [
       "<matplotlib.figure.Figure at 0x1bd0f68a4a8>"
      ]
     },
     "metadata": {},
     "output_type": "display_data"
    }
   ],
   "source": [
    "optimitza(10000)\n",
    "imprimeix_res(precisio, rati)\n",
    "mostra_pesos()"
   ]
  },
  {
   "cell_type": "markdown",
   "metadata": {},
   "source": [
    "## Conclusions\n",
    "\n",
    "Com podem veure a dalt, el nostre simple model ha estat capaç d'aprendre a reconèixer els diferents dígits escrits a mà amb una precisió del 92%. El fet és que 92% d'eficàcia a MNIST no és gaire bo, però el propòsit d'aquest \"experiment\" no era aconseguir una precisió envejable, sinó demostrar que un ordinador pot aprendre, en aquest cas, a reconèixer dígits escrits a mà.\n",
    "\n",
    "Si mirem els pesos de l'últim entrenament, podem veure que no són exactament el que nosaltres esperaríem. Sembla ser que l'ordinador ha posat totes les imatges de cada número l'una a sobre de l'altra i ha agafat els punts comuns i els no comuns i això causa aquests pesos, on sembla que l'ordinador es guia més pels punts que representen una \"penalització\" (vermells) que pels que representen un \"benefici\" (blaus).\n",
    "\n",
    "Si retrocedim una mica als pesos que hem mostrat després de les primeres 25 iteracions podem veure que aquells eren una mica més clars, més semblants al que esperaríem, però la precisió llavors era més o menys un 80% mentre que ara és del 92% i el rati d'encerts/errors és de 12 encerts per cada error.\n",
    "\n",
    "La conclusió més important que podem extreure d'aquest \"experiment\" és que els ordinadors NO aprenen com nosaltres, ja que no són persones. El seu aprenentatge es pot semblar al nostre, però mai serà igual. No obstant, són capaços d'aprendre, i això ja és molt."
   ]
  },
  {
   "cell_type": "code",
   "execution_count": null,
   "metadata": {
    "collapsed": true
   },
   "outputs": [],
   "source": []
  }
 ],
 "metadata": {
  "kernelspec": {
   "display_name": "Python 3",
   "language": "python",
   "name": "python3"
  },
  "language_info": {
   "codemirror_mode": {
    "name": "ipython",
    "version": 3
   },
   "file_extension": ".py",
   "mimetype": "text/x-python",
   "name": "python",
   "nbconvert_exporter": "python",
   "pygments_lexer": "ipython3",
   "version": "3.5.3"
  }
 },
 "nbformat": 4,
 "nbformat_minor": 2
}
