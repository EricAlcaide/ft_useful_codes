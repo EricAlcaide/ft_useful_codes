{
 "cells": [
  {
   "cell_type": "code",
   "execution_count": 1,
   "metadata": {
    "collapsed": true
   },
   "outputs": [],
   "source": [
    "import numpy as np\n",
    "import matplotlib.pyplot as plt"
   ]
  },
  {
   "cell_type": "code",
   "execution_count": 2,
   "metadata": {},
   "outputs": [
    {
     "name": "stdout",
     "output_type": "stream",
     "text": [
      "Successfully downloaded train-images-idx3-ubyte.gz 9912422 bytes.\n",
      "Extracting MNIST_data/train-images-idx3-ubyte.gz\n",
      "Successfully downloaded train-labels-idx1-ubyte.gz 28881 bytes.\n",
      "Extracting MNIST_data/train-labels-idx1-ubyte.gz\n",
      "Successfully downloaded t10k-images-idx3-ubyte.gz 1648877 bytes.\n",
      "Extracting MNIST_data/t10k-images-idx3-ubyte.gz\n",
      "Successfully downloaded t10k-labels-idx1-ubyte.gz 4542 bytes.\n",
      "Extracting MNIST_data/t10k-labels-idx1-ubyte.gz\n"
     ]
    }
   ],
   "source": [
    "from tensorflow.examples.tutorials.mnist import input_data\n",
    "mnist = input_data.read_data_sets(\"MNIST_data/\", one_hot=True)"
   ]
  },
  {
   "cell_type": "code",
   "execution_count": 31,
   "metadata": {},
   "outputs": [
    {
     "name": "stdout",
     "output_type": "stream",
     "text": [
      "Training: 55000 Eval: 5000 Test: 10000\n"
     ]
    }
   ],
   "source": [
    "print(\"Training:\", len(mnist.train.labels), \"Eval:\", len(mnist.validation.labels), \"Test:\", len(mnist.test.labels))"
   ]
  },
  {
   "cell_type": "code",
   "execution_count": 4,
   "metadata": {
    "collapsed": true
   },
   "outputs": [],
   "source": [
    "mnist.test.labels = np.array([onehot.argmax() for onehot in mnist.test.labels])"
   ]
  },
  {
   "cell_type": "code",
   "execution_count": 32,
   "metadata": {
    "collapsed": true
   },
   "outputs": [],
   "source": [
    "# MNIST images are 28*28 px\n",
    "size_img = 28\n",
    "# Flatten images into 28*28-dimensional vector\n",
    "img_flatten_size = tamany_img * tamany_img\n",
    "shape_img = (size_img, size_img)\n",
    "# Number of different classes\n",
    "num_classes = 10"
   ]
  },
  {
   "cell_type": "code",
   "execution_count": 33,
   "metadata": {
    "collapsed": true
   },
   "outputs": [],
   "source": [
    "def imprimeix_imgs(imgs, classe_real, classe_pred=None):\n",
    "    # Creem la figura amb 3x3 sub-imatges.\n",
    "    fig, axes = plt.subplots(1, 4)\n",
    "    fig.subplots_adjust(hspace=0.3, wspace=0.3)\n",
    "\n",
    "    # Imprimim les imatges amb un bucle.\n",
    "    for i, ax in enumerate(axes.flat):\n",
    "        # Imprimim imatge.\n",
    "        ax.imshow(imgs[i].reshape(forma_img), cmap='binary')\n",
    "\n",
    "        # Mostrem la classificació real i la predita pel model només si la hem proporcionat.\n",
    "        if classe_pred is None:\n",
    "            xlabel = \"Realitat: {0}\".format(classe_real[i])\n",
    "        else:\n",
    "            xlabel = \"Realitat: {0}, Pred: {1}\".format(classe_real[i], classe_pred[i])\n",
    "\n",
    "        ax.set_xlabel(xlabel)\n",
    "        # Treiem els índexs dels eixos x i y.\n",
    "        ax.set_xticks([])\n",
    "        ax.set_yticks([])\n",
    "    plt.show()"
   ]
  },
  {
   "cell_type": "code",
   "execution_count": 35,
   "metadata": {},
   "outputs": [
    {
     "data": {
      "image/png": "[encoded data removed]",
      "text/plain": [
       "<matplotlib.figure.Figure at 0x199df2302b0>"
      ]
     },
     "metadata": {},
     "output_type": "display_data"
    }
   ],
   "source": [
    "imgs = mnist.test.images[0:4]\n",
    "classe_real = mnist.test.etiquetes[0:4]\n",
    "# Print images\n",
    "imprimeix_imgs(imgs=imgs, classe_real=classe_real)"
   ]
  },
  {
   "cell_type": "code",
   "execution_count": 36,
   "metadata": {
    "collapsed": true
   },
   "outputs": [],
   "source": [
    "def softmax(x):\n",
    "    \"\"\" Compute softmax values for each sets of scores in x.\n",
    "        All probabilities add up to 1.\n",
    "    \"\"\"\n",
    "    e_x = np.exp(x)\n",
    "    return e_x / e_x.sum()"
   ]
  },
  {
   "cell_type": "code",
   "execution_count": 37,
   "metadata": {
    "collapsed": true
   },
   "outputs": [],
   "source": [
    "weights = np.random.randn(num_classes, img_tamany_pla)*0.02 # Initialize weights to small values\n",
    "biases = np.zeros((num_classes, 1))"
   ]
  },
  {
   "cell_type": "code",
   "execution_count": 30,
   "metadata": {},
   "outputs": [
    {
     "name": "stdout",
     "output_type": "stream",
     "text": [
      "[[  7.50189713e-03  -2.87053244e-02   1.59885504e-02 ...,   6.00675762e-03\n",
      "    2.55038836e-02   1.80661780e-02]\n",
      " [  2.93132613e-02   8.12442331e-05   1.19562916e-02 ...,   3.23545629e-03\n",
      "    2.08760037e-02   1.22598152e-03]\n",
      " [ -1.96876851e-03  -3.96930849e-02  -1.54130427e-02 ...,  -9.21207651e-03\n",
      "   -2.00731703e-02   5.98121486e-02]\n",
      " ..., \n",
      " [  1.16082410e-03   5.55289418e-04  -8.07134108e-03 ...,  -3.91661638e-03\n",
      "    2.87607482e-03  -1.41154699e-02]\n",
      " [ -4.04879454e-03  -4.77545866e-03   3.44963378e-02 ...,  -1.09390136e-02\n",
      "   -2.13162008e-02  -1.11623345e-02]\n",
      " [ -2.56207009e-02   1.10709186e-02   1.08130005e-02 ...,  -3.75461098e-02\n",
      "    1.41751122e-02  -2.04067014e-02]] [[ 0.]\n",
      " [ 0.]\n",
      " [ 0.]\n",
      " [ 0.]\n",
      " [ 0.]\n",
      " [ 0.]\n",
      " [ 0.]\n",
      " [ 0.]\n",
      " [ 0.]\n",
      " [ 0.]]\n"
     ]
    }
   ],
   "source": [
    "print(weights, biases)"
   ]
  },
  {
   "cell_type": "code",
   "execution_count": null,
   "metadata": {
    "collapsed": true
   },
   "outputs": [],
   "source": []
  }
 ],
 "metadata": {
  "kernelspec": {
   "display_name": "Python 3",
   "language": "python",
   "name": "python3"
  },
  "language_info": {
   "codemirror_mode": {
    "name": "ipython",
    "version": 3
   },
   "file_extension": ".py",
   "mimetype": "text/x-python",
   "name": "python",
   "nbconvert_exporter": "python",
   "pygments_lexer": "ipython3",
   "version": "3.5.3"
  }
 },
 "nbformat": 4,
 "nbformat_minor": 2
}
